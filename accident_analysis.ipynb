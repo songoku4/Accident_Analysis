{
  "cells": [
    {
      "cell_type": "markdown",
      "metadata": {
        "id": "view-in-github",
        "colab_type": "text"
      },
      "source": [
        "<a href=\"https://colab.research.google.com/github/songoku4/Accident_Analysis/blob/main/accident_analysis.ipynb\" target=\"_parent\"><img src=\"https://colab.research.google.com/assets/colab-badge.svg\" alt=\"Open In Colab\"/></a>"
      ]
    },
    {
      "cell_type": "markdown",
      "metadata": {
        "id": "xmwi0S7_RmLw"
      },
      "source": [
        "# accident-analysis\n",
        "\n",
        "Use the \"Run\" button to execute the code."
      ]
    },
    {
      "cell_type": "markdown",
      "source": [
        "USA Accidents Exploratory Data Analysis\n",
        "Aim: Do a general EDA on accident dataset\n",
        "1. Kaggle Dataset\n",
        "2. Data processing\n",
        "3. Useful insights for accident prevention\n",
        "4. Does not contain data about New York"
      ],
      "metadata": {
        "id": "y2rjNreRw7kv"
      }
    },
    {
      "cell_type": "markdown",
      "source": [
        "Download Dataset for accident analysis\n"
      ],
      "metadata": {
        "id": "dIyBVgD3TlsA"
      }
    },
    {
      "cell_type": "code",
      "source": [
        "pip install opendatasets --upgrade"
      ],
      "metadata": {
        "colab": {
          "base_uri": "https://localhost:8080/"
        },
        "id": "VzXmdyd1TNCa",
        "outputId": "486ed175-bc6e-4ee7-9cc7-61661d471007"
      },
      "execution_count": 3,
      "outputs": [
        {
          "output_type": "stream",
          "name": "stdout",
          "text": [
            "Looking in indexes: https://pypi.org/simple, https://us-python.pkg.dev/colab-wheels/public/simple/\n",
            "Collecting opendatasets\n",
            "  Downloading opendatasets-0.1.22-py3-none-any.whl (15 kB)\n",
            "Requirement already satisfied: kaggle in /usr/local/lib/python3.8/dist-packages (from opendatasets) (1.5.12)\n",
            "Requirement already satisfied: tqdm in /usr/local/lib/python3.8/dist-packages (from opendatasets) (4.64.1)\n",
            "Requirement already satisfied: click in /usr/local/lib/python3.8/dist-packages (from opendatasets) (7.1.2)\n",
            "Requirement already satisfied: requests in /usr/local/lib/python3.8/dist-packages (from kaggle->opendatasets) (2.25.1)\n",
            "Requirement already satisfied: six>=1.10 in /usr/local/lib/python3.8/dist-packages (from kaggle->opendatasets) (1.15.0)\n",
            "Requirement already satisfied: urllib3 in /usr/local/lib/python3.8/dist-packages (from kaggle->opendatasets) (1.24.3)\n",
            "Requirement already satisfied: certifi in /usr/local/lib/python3.8/dist-packages (from kaggle->opendatasets) (2022.12.7)\n",
            "Requirement already satisfied: python-dateutil in /usr/local/lib/python3.8/dist-packages (from kaggle->opendatasets) (2.8.2)\n",
            "Requirement already satisfied: python-slugify in /usr/local/lib/python3.8/dist-packages (from kaggle->opendatasets) (7.0.0)\n",
            "Requirement already satisfied: text-unidecode>=1.3 in /usr/local/lib/python3.8/dist-packages (from python-slugify->kaggle->opendatasets) (1.3)\n",
            "Requirement already satisfied: chardet<5,>=3.0.2 in /usr/local/lib/python3.8/dist-packages (from requests->kaggle->opendatasets) (4.0.0)\n",
            "Requirement already satisfied: idna<3,>=2.5 in /usr/local/lib/python3.8/dist-packages (from requests->kaggle->opendatasets) (2.10)\n",
            "Installing collected packages: opendatasets\n",
            "Successfully installed opendatasets-0.1.22\n"
          ]
        }
      ]
    },
    {
      "cell_type": "code",
      "source": [
        "import opendatasets as od\n",
        "url = 'https://www.kaggle.com/datasets/sobhanmoosavi/us-accidents'\n",
        "od.download(url)"
      ],
      "metadata": {
        "colab": {
          "base_uri": "https://localhost:8080/"
        },
        "id": "85bIDiCQTT1F",
        "outputId": "5c8d8b04-9d1b-4249-a03a-e68d93b581bb"
      },
      "execution_count": 4,
      "outputs": [
        {
          "output_type": "stream",
          "name": "stdout",
          "text": [
            "Please provide your Kaggle credentials to download this dataset. Learn more: http://bit.ly/kaggle-creds\n",
            "Your Kaggle username: gild04\n",
            "Your Kaggle Key: ··········\n",
            "Downloading us-accidents.zip to ./us-accidents\n"
          ]
        },
        {
          "output_type": "stream",
          "name": "stderr",
          "text": [
            "100%|██████████| 269M/269M [00:01<00:00, 193MB/s]\n"
          ]
        },
        {
          "output_type": "stream",
          "name": "stdout",
          "text": [
            "\n"
          ]
        }
      ]
    },
    {
      "cell_type": "code",
      "source": [
        "data_file = './us-accidents/US_Accidents_Dec21_updated.csv'"
      ],
      "metadata": {
        "id": "6nBZY_0uT1KK"
      },
      "execution_count": 5,
      "outputs": []
    },
    {
      "cell_type": "markdown",
      "source": [
        "Data processing and cleaning\n",
        "\n",
        "\n",
        "1.   Load Data using pandas\n",
        "2.   Do initial analysis of information from the dataset\n",
        "3.   Deal with incorrect and missing values or anomalies\n",
        "\n"
      ],
      "metadata": {
        "id": "SeT43r63VDFz"
      }
    },
    {
      "cell_type": "code",
      "source": [
        "import pandas as pd"
      ],
      "metadata": {
        "id": "PqItrKC3VGnz"
      },
      "execution_count": 6,
      "outputs": []
    },
    {
      "cell_type": "code",
      "source": [
        "df=pd.read_csv(data_file)"
      ],
      "metadata": {
        "id": "9xr63RhrVhjB"
      },
      "execution_count": 7,
      "outputs": []
    },
    {
      "cell_type": "code",
      "source": [
        "df"
      ],
      "metadata": {
        "colab": {
          "base_uri": "https://localhost:8080/",
          "height": 938
        },
        "id": "WNqMNO-RVmII",
        "outputId": "05601881-2de0-469b-92c9-941d79649172"
      },
      "execution_count": 8,
      "outputs": [
        {
          "output_type": "execute_result",
          "data": {
            "text/plain": [
              "                ID  Severity           Start_Time             End_Time  \\\n",
              "0              A-1         3  2016-02-08 00:37:08  2016-02-08 06:37:08   \n",
              "1              A-2         2  2016-02-08 05:56:20  2016-02-08 11:56:20   \n",
              "2              A-3         2  2016-02-08 06:15:39  2016-02-08 12:15:39   \n",
              "3              A-4         2  2016-02-08 06:51:45  2016-02-08 12:51:45   \n",
              "4              A-5         3  2016-02-08 07:53:43  2016-02-08 13:53:43   \n",
              "...            ...       ...                  ...                  ...   \n",
              "2845337  A-2845338         2  2019-08-23 18:03:25  2019-08-23 18:32:01   \n",
              "2845338  A-2845339         2  2019-08-23 19:11:30  2019-08-23 19:38:23   \n",
              "2845339  A-2845340         2  2019-08-23 19:00:21  2019-08-23 19:28:49   \n",
              "2845340  A-2845341         2  2019-08-23 19:00:21  2019-08-23 19:29:42   \n",
              "2845341  A-2845342         2  2019-08-23 18:52:06  2019-08-23 19:21:31   \n",
              "\n",
              "         Start_Lat   Start_Lng    End_Lat     End_Lng  Distance(mi)  \\\n",
              "0        40.108910  -83.092860  40.112060  -83.031870         3.230   \n",
              "1        39.865420  -84.062800  39.865010  -84.048730         0.747   \n",
              "2        39.102660  -84.524680  39.102090  -84.523960         0.055   \n",
              "3        41.062130  -81.537840  41.062170  -81.535470         0.123   \n",
              "4        39.172393  -84.492792  39.170476  -84.501798         0.500   \n",
              "...            ...         ...        ...         ...           ...   \n",
              "2845337  34.002480 -117.379360  33.998880 -117.370940         0.543   \n",
              "2845338  32.766960 -117.148060  32.765550 -117.153630         0.338   \n",
              "2845339  33.775450 -117.847790  33.777400 -117.857270         0.561   \n",
              "2845340  33.992460 -118.403020  33.983110 -118.395650         0.772   \n",
              "2845341  34.133930 -117.230920  34.137360 -117.239340         0.537   \n",
              "\n",
              "                                               Description  ...  Roundabout  \\\n",
              "0        Between Sawmill Rd/Exit 20 and OH-315/Olentang...  ...       False   \n",
              "1                       At OH-4/OH-235/Exit 41 - Accident.  ...       False   \n",
              "2                         At I-71/US-50/Exit 1 - Accident.  ...       False   \n",
              "3                          At Dart Ave/Exit 21 - Accident.  ...       False   \n",
              "4                       At Mitchell Ave/Exit 6 - Accident.  ...       False   \n",
              "...                                                    ...  ...         ...   \n",
              "2845337                           At Market St - Accident.  ...       False   \n",
              "2845338    At Camino Del Rio/Mission Center Rd - Accident.  ...       False   \n",
              "2845339  At Glassell St/Grand Ave - Accident. in the ri...  ...       False   \n",
              "2845340     At CA-90/Marina Fwy/Jefferson Blvd - Accident.  ...       False   \n",
              "2845341              At Highland Ave/Arden Ave - Accident.  ...       False   \n",
              "\n",
              "        Station   Stop Traffic_Calming Traffic_Signal Turning_Loop  \\\n",
              "0         False  False           False          False        False   \n",
              "1         False  False           False          False        False   \n",
              "2         False  False           False          False        False   \n",
              "3         False  False           False          False        False   \n",
              "4         False  False           False          False        False   \n",
              "...         ...    ...             ...            ...          ...   \n",
              "2845337   False  False           False          False        False   \n",
              "2845338   False  False           False          False        False   \n",
              "2845339   False  False           False          False        False   \n",
              "2845340   False  False           False          False        False   \n",
              "2845341   False  False           False          False        False   \n",
              "\n",
              "        Sunrise_Sunset Civil_Twilight Nautical_Twilight Astronomical_Twilight  \n",
              "0                Night          Night             Night                 Night  \n",
              "1                Night          Night             Night                 Night  \n",
              "2                Night          Night             Night                   Day  \n",
              "3                Night          Night               Day                   Day  \n",
              "4                  Day            Day               Day                   Day  \n",
              "...                ...            ...               ...                   ...  \n",
              "2845337            Day            Day               Day                   Day  \n",
              "2845338            Day            Day               Day                   Day  \n",
              "2845339            Day            Day               Day                   Day  \n",
              "2845340            Day            Day               Day                   Day  \n",
              "2845341            Day            Day               Day                   Day  \n",
              "\n",
              "[2845342 rows x 47 columns]"
            ],
            "text/html": [
              "\n",
              "  <div id=\"df-a8ad862f-ef72-4c4e-b0c5-2b55fb8405fe\">\n",
              "    <div class=\"colab-df-container\">\n",
              "      <div>\n",
              "<style scoped>\n",
              "    .dataframe tbody tr th:only-of-type {\n",
              "        vertical-align: middle;\n",
              "    }\n",
              "\n",
              "    .dataframe tbody tr th {\n",
              "        vertical-align: top;\n",
              "    }\n",
              "\n",
              "    .dataframe thead th {\n",
              "        text-align: right;\n",
              "    }\n",
              "</style>\n",
              "<table border=\"1\" class=\"dataframe\">\n",
              "  <thead>\n",
              "    <tr style=\"text-align: right;\">\n",
              "      <th></th>\n",
              "      <th>ID</th>\n",
              "      <th>Severity</th>\n",
              "      <th>Start_Time</th>\n",
              "      <th>End_Time</th>\n",
              "      <th>Start_Lat</th>\n",
              "      <th>Start_Lng</th>\n",
              "      <th>End_Lat</th>\n",
              "      <th>End_Lng</th>\n",
              "      <th>Distance(mi)</th>\n",
              "      <th>Description</th>\n",
              "      <th>...</th>\n",
              "      <th>Roundabout</th>\n",
              "      <th>Station</th>\n",
              "      <th>Stop</th>\n",
              "      <th>Traffic_Calming</th>\n",
              "      <th>Traffic_Signal</th>\n",
              "      <th>Turning_Loop</th>\n",
              "      <th>Sunrise_Sunset</th>\n",
              "      <th>Civil_Twilight</th>\n",
              "      <th>Nautical_Twilight</th>\n",
              "      <th>Astronomical_Twilight</th>\n",
              "    </tr>\n",
              "  </thead>\n",
              "  <tbody>\n",
              "    <tr>\n",
              "      <th>0</th>\n",
              "      <td>A-1</td>\n",
              "      <td>3</td>\n",
              "      <td>2016-02-08 00:37:08</td>\n",
              "      <td>2016-02-08 06:37:08</td>\n",
              "      <td>40.108910</td>\n",
              "      <td>-83.092860</td>\n",
              "      <td>40.112060</td>\n",
              "      <td>-83.031870</td>\n",
              "      <td>3.230</td>\n",
              "      <td>Between Sawmill Rd/Exit 20 and OH-315/Olentang...</td>\n",
              "      <td>...</td>\n",
              "      <td>False</td>\n",
              "      <td>False</td>\n",
              "      <td>False</td>\n",
              "      <td>False</td>\n",
              "      <td>False</td>\n",
              "      <td>False</td>\n",
              "      <td>Night</td>\n",
              "      <td>Night</td>\n",
              "      <td>Night</td>\n",
              "      <td>Night</td>\n",
              "    </tr>\n",
              "    <tr>\n",
              "      <th>1</th>\n",
              "      <td>A-2</td>\n",
              "      <td>2</td>\n",
              "      <td>2016-02-08 05:56:20</td>\n",
              "      <td>2016-02-08 11:56:20</td>\n",
              "      <td>39.865420</td>\n",
              "      <td>-84.062800</td>\n",
              "      <td>39.865010</td>\n",
              "      <td>-84.048730</td>\n",
              "      <td>0.747</td>\n",
              "      <td>At OH-4/OH-235/Exit 41 - Accident.</td>\n",
              "      <td>...</td>\n",
              "      <td>False</td>\n",
              "      <td>False</td>\n",
              "      <td>False</td>\n",
              "      <td>False</td>\n",
              "      <td>False</td>\n",
              "      <td>False</td>\n",
              "      <td>Night</td>\n",
              "      <td>Night</td>\n",
              "      <td>Night</td>\n",
              "      <td>Night</td>\n",
              "    </tr>\n",
              "    <tr>\n",
              "      <th>2</th>\n",
              "      <td>A-3</td>\n",
              "      <td>2</td>\n",
              "      <td>2016-02-08 06:15:39</td>\n",
              "      <td>2016-02-08 12:15:39</td>\n",
              "      <td>39.102660</td>\n",
              "      <td>-84.524680</td>\n",
              "      <td>39.102090</td>\n",
              "      <td>-84.523960</td>\n",
              "      <td>0.055</td>\n",
              "      <td>At I-71/US-50/Exit 1 - Accident.</td>\n",
              "      <td>...</td>\n",
              "      <td>False</td>\n",
              "      <td>False</td>\n",
              "      <td>False</td>\n",
              "      <td>False</td>\n",
              "      <td>False</td>\n",
              "      <td>False</td>\n",
              "      <td>Night</td>\n",
              "      <td>Night</td>\n",
              "      <td>Night</td>\n",
              "      <td>Day</td>\n",
              "    </tr>\n",
              "    <tr>\n",
              "      <th>3</th>\n",
              "      <td>A-4</td>\n",
              "      <td>2</td>\n",
              "      <td>2016-02-08 06:51:45</td>\n",
              "      <td>2016-02-08 12:51:45</td>\n",
              "      <td>41.062130</td>\n",
              "      <td>-81.537840</td>\n",
              "      <td>41.062170</td>\n",
              "      <td>-81.535470</td>\n",
              "      <td>0.123</td>\n",
              "      <td>At Dart Ave/Exit 21 - Accident.</td>\n",
              "      <td>...</td>\n",
              "      <td>False</td>\n",
              "      <td>False</td>\n",
              "      <td>False</td>\n",
              "      <td>False</td>\n",
              "      <td>False</td>\n",
              "      <td>False</td>\n",
              "      <td>Night</td>\n",
              "      <td>Night</td>\n",
              "      <td>Day</td>\n",
              "      <td>Day</td>\n",
              "    </tr>\n",
              "    <tr>\n",
              "      <th>4</th>\n",
              "      <td>A-5</td>\n",
              "      <td>3</td>\n",
              "      <td>2016-02-08 07:53:43</td>\n",
              "      <td>2016-02-08 13:53:43</td>\n",
              "      <td>39.172393</td>\n",
              "      <td>-84.492792</td>\n",
              "      <td>39.170476</td>\n",
              "      <td>-84.501798</td>\n",
              "      <td>0.500</td>\n",
              "      <td>At Mitchell Ave/Exit 6 - Accident.</td>\n",
              "      <td>...</td>\n",
              "      <td>False</td>\n",
              "      <td>False</td>\n",
              "      <td>False</td>\n",
              "      <td>False</td>\n",
              "      <td>False</td>\n",
              "      <td>False</td>\n",
              "      <td>Day</td>\n",
              "      <td>Day</td>\n",
              "      <td>Day</td>\n",
              "      <td>Day</td>\n",
              "    </tr>\n",
              "    <tr>\n",
              "      <th>...</th>\n",
              "      <td>...</td>\n",
              "      <td>...</td>\n",
              "      <td>...</td>\n",
              "      <td>...</td>\n",
              "      <td>...</td>\n",
              "      <td>...</td>\n",
              "      <td>...</td>\n",
              "      <td>...</td>\n",
              "      <td>...</td>\n",
              "      <td>...</td>\n",
              "      <td>...</td>\n",
              "      <td>...</td>\n",
              "      <td>...</td>\n",
              "      <td>...</td>\n",
              "      <td>...</td>\n",
              "      <td>...</td>\n",
              "      <td>...</td>\n",
              "      <td>...</td>\n",
              "      <td>...</td>\n",
              "      <td>...</td>\n",
              "      <td>...</td>\n",
              "    </tr>\n",
              "    <tr>\n",
              "      <th>2845337</th>\n",
              "      <td>A-2845338</td>\n",
              "      <td>2</td>\n",
              "      <td>2019-08-23 18:03:25</td>\n",
              "      <td>2019-08-23 18:32:01</td>\n",
              "      <td>34.002480</td>\n",
              "      <td>-117.379360</td>\n",
              "      <td>33.998880</td>\n",
              "      <td>-117.370940</td>\n",
              "      <td>0.543</td>\n",
              "      <td>At Market St - Accident.</td>\n",
              "      <td>...</td>\n",
              "      <td>False</td>\n",
              "      <td>False</td>\n",
              "      <td>False</td>\n",
              "      <td>False</td>\n",
              "      <td>False</td>\n",
              "      <td>False</td>\n",
              "      <td>Day</td>\n",
              "      <td>Day</td>\n",
              "      <td>Day</td>\n",
              "      <td>Day</td>\n",
              "    </tr>\n",
              "    <tr>\n",
              "      <th>2845338</th>\n",
              "      <td>A-2845339</td>\n",
              "      <td>2</td>\n",
              "      <td>2019-08-23 19:11:30</td>\n",
              "      <td>2019-08-23 19:38:23</td>\n",
              "      <td>32.766960</td>\n",
              "      <td>-117.148060</td>\n",
              "      <td>32.765550</td>\n",
              "      <td>-117.153630</td>\n",
              "      <td>0.338</td>\n",
              "      <td>At Camino Del Rio/Mission Center Rd - Accident.</td>\n",
              "      <td>...</td>\n",
              "      <td>False</td>\n",
              "      <td>False</td>\n",
              "      <td>False</td>\n",
              "      <td>False</td>\n",
              "      <td>False</td>\n",
              "      <td>False</td>\n",
              "      <td>Day</td>\n",
              "      <td>Day</td>\n",
              "      <td>Day</td>\n",
              "      <td>Day</td>\n",
              "    </tr>\n",
              "    <tr>\n",
              "      <th>2845339</th>\n",
              "      <td>A-2845340</td>\n",
              "      <td>2</td>\n",
              "      <td>2019-08-23 19:00:21</td>\n",
              "      <td>2019-08-23 19:28:49</td>\n",
              "      <td>33.775450</td>\n",
              "      <td>-117.847790</td>\n",
              "      <td>33.777400</td>\n",
              "      <td>-117.857270</td>\n",
              "      <td>0.561</td>\n",
              "      <td>At Glassell St/Grand Ave - Accident. in the ri...</td>\n",
              "      <td>...</td>\n",
              "      <td>False</td>\n",
              "      <td>False</td>\n",
              "      <td>False</td>\n",
              "      <td>False</td>\n",
              "      <td>False</td>\n",
              "      <td>False</td>\n",
              "      <td>Day</td>\n",
              "      <td>Day</td>\n",
              "      <td>Day</td>\n",
              "      <td>Day</td>\n",
              "    </tr>\n",
              "    <tr>\n",
              "      <th>2845340</th>\n",
              "      <td>A-2845341</td>\n",
              "      <td>2</td>\n",
              "      <td>2019-08-23 19:00:21</td>\n",
              "      <td>2019-08-23 19:29:42</td>\n",
              "      <td>33.992460</td>\n",
              "      <td>-118.403020</td>\n",
              "      <td>33.983110</td>\n",
              "      <td>-118.395650</td>\n",
              "      <td>0.772</td>\n",
              "      <td>At CA-90/Marina Fwy/Jefferson Blvd - Accident.</td>\n",
              "      <td>...</td>\n",
              "      <td>False</td>\n",
              "      <td>False</td>\n",
              "      <td>False</td>\n",
              "      <td>False</td>\n",
              "      <td>False</td>\n",
              "      <td>False</td>\n",
              "      <td>Day</td>\n",
              "      <td>Day</td>\n",
              "      <td>Day</td>\n",
              "      <td>Day</td>\n",
              "    </tr>\n",
              "    <tr>\n",
              "      <th>2845341</th>\n",
              "      <td>A-2845342</td>\n",
              "      <td>2</td>\n",
              "      <td>2019-08-23 18:52:06</td>\n",
              "      <td>2019-08-23 19:21:31</td>\n",
              "      <td>34.133930</td>\n",
              "      <td>-117.230920</td>\n",
              "      <td>34.137360</td>\n",
              "      <td>-117.239340</td>\n",
              "      <td>0.537</td>\n",
              "      <td>At Highland Ave/Arden Ave - Accident.</td>\n",
              "      <td>...</td>\n",
              "      <td>False</td>\n",
              "      <td>False</td>\n",
              "      <td>False</td>\n",
              "      <td>False</td>\n",
              "      <td>False</td>\n",
              "      <td>False</td>\n",
              "      <td>Day</td>\n",
              "      <td>Day</td>\n",
              "      <td>Day</td>\n",
              "      <td>Day</td>\n",
              "    </tr>\n",
              "  </tbody>\n",
              "</table>\n",
              "<p>2845342 rows × 47 columns</p>\n",
              "</div>\n",
              "      <button class=\"colab-df-convert\" onclick=\"convertToInteractive('df-a8ad862f-ef72-4c4e-b0c5-2b55fb8405fe')\"\n",
              "              title=\"Convert this dataframe to an interactive table.\"\n",
              "              style=\"display:none;\">\n",
              "        \n",
              "  <svg xmlns=\"http://www.w3.org/2000/svg\" height=\"24px\"viewBox=\"0 0 24 24\"\n",
              "       width=\"24px\">\n",
              "    <path d=\"M0 0h24v24H0V0z\" fill=\"none\"/>\n",
              "    <path d=\"M18.56 5.44l.94 2.06.94-2.06 2.06-.94-2.06-.94-.94-2.06-.94 2.06-2.06.94zm-11 1L8.5 8.5l.94-2.06 2.06-.94-2.06-.94L8.5 2.5l-.94 2.06-2.06.94zm10 10l.94 2.06.94-2.06 2.06-.94-2.06-.94-.94-2.06-.94 2.06-2.06.94z\"/><path d=\"M17.41 7.96l-1.37-1.37c-.4-.4-.92-.59-1.43-.59-.52 0-1.04.2-1.43.59L10.3 9.45l-7.72 7.72c-.78.78-.78 2.05 0 2.83L4 21.41c.39.39.9.59 1.41.59.51 0 1.02-.2 1.41-.59l7.78-7.78 2.81-2.81c.8-.78.8-2.07 0-2.86zM5.41 20L4 18.59l7.72-7.72 1.47 1.35L5.41 20z\"/>\n",
              "  </svg>\n",
              "      </button>\n",
              "      \n",
              "  <style>\n",
              "    .colab-df-container {\n",
              "      display:flex;\n",
              "      flex-wrap:wrap;\n",
              "      gap: 12px;\n",
              "    }\n",
              "\n",
              "    .colab-df-convert {\n",
              "      background-color: #E8F0FE;\n",
              "      border: none;\n",
              "      border-radius: 50%;\n",
              "      cursor: pointer;\n",
              "      display: none;\n",
              "      fill: #1967D2;\n",
              "      height: 32px;\n",
              "      padding: 0 0 0 0;\n",
              "      width: 32px;\n",
              "    }\n",
              "\n",
              "    .colab-df-convert:hover {\n",
              "      background-color: #E2EBFA;\n",
              "      box-shadow: 0px 1px 2px rgba(60, 64, 67, 0.3), 0px 1px 3px 1px rgba(60, 64, 67, 0.15);\n",
              "      fill: #174EA6;\n",
              "    }\n",
              "\n",
              "    [theme=dark] .colab-df-convert {\n",
              "      background-color: #3B4455;\n",
              "      fill: #D2E3FC;\n",
              "    }\n",
              "\n",
              "    [theme=dark] .colab-df-convert:hover {\n",
              "      background-color: #434B5C;\n",
              "      box-shadow: 0px 1px 3px 1px rgba(0, 0, 0, 0.15);\n",
              "      filter: drop-shadow(0px 1px 2px rgba(0, 0, 0, 0.3));\n",
              "      fill: #FFFFFF;\n",
              "    }\n",
              "  </style>\n",
              "\n",
              "      <script>\n",
              "        const buttonEl =\n",
              "          document.querySelector('#df-a8ad862f-ef72-4c4e-b0c5-2b55fb8405fe button.colab-df-convert');\n",
              "        buttonEl.style.display =\n",
              "          google.colab.kernel.accessAllowed ? 'block' : 'none';\n",
              "\n",
              "        async function convertToInteractive(key) {\n",
              "          const element = document.querySelector('#df-a8ad862f-ef72-4c4e-b0c5-2b55fb8405fe');\n",
              "          const dataTable =\n",
              "            await google.colab.kernel.invokeFunction('convertToInteractive',\n",
              "                                                     [key], {});\n",
              "          if (!dataTable) return;\n",
              "\n",
              "          const docLinkHtml = 'Like what you see? Visit the ' +\n",
              "            '<a target=\"_blank\" href=https://colab.research.google.com/notebooks/data_table.ipynb>data table notebook</a>'\n",
              "            + ' to learn more about interactive tables.';\n",
              "          element.innerHTML = '';\n",
              "          dataTable['output_type'] = 'display_data';\n",
              "          await google.colab.output.renderOutput(dataTable, element);\n",
              "          const docLink = document.createElement('div');\n",
              "          docLink.innerHTML = docLinkHtml;\n",
              "          element.appendChild(docLink);\n",
              "        }\n",
              "      </script>\n",
              "    </div>\n",
              "  </div>\n",
              "  "
            ]
          },
          "metadata": {},
          "execution_count": 8
        }
      ]
    },
    {
      "cell_type": "code",
      "source": [
        "df.info()"
      ],
      "metadata": {
        "colab": {
          "base_uri": "https://localhost:8080/"
        },
        "id": "dldVSgEjV_Ia",
        "outputId": "f4a9d028-56b6-488f-dd9a-60bcf9815f5e"
      },
      "execution_count": 9,
      "outputs": [
        {
          "output_type": "stream",
          "name": "stdout",
          "text": [
            "<class 'pandas.core.frame.DataFrame'>\n",
            "RangeIndex: 2845342 entries, 0 to 2845341\n",
            "Data columns (total 47 columns):\n",
            " #   Column                 Dtype  \n",
            "---  ------                 -----  \n",
            " 0   ID                     object \n",
            " 1   Severity               int64  \n",
            " 2   Start_Time             object \n",
            " 3   End_Time               object \n",
            " 4   Start_Lat              float64\n",
            " 5   Start_Lng              float64\n",
            " 6   End_Lat                float64\n",
            " 7   End_Lng                float64\n",
            " 8   Distance(mi)           float64\n",
            " 9   Description            object \n",
            " 10  Number                 float64\n",
            " 11  Street                 object \n",
            " 12  Side                   object \n",
            " 13  City                   object \n",
            " 14  County                 object \n",
            " 15  State                  object \n",
            " 16  Zipcode                object \n",
            " 17  Country                object \n",
            " 18  Timezone               object \n",
            " 19  Airport_Code           object \n",
            " 20  Weather_Timestamp      object \n",
            " 21  Temperature(F)         float64\n",
            " 22  Wind_Chill(F)          float64\n",
            " 23  Humidity(%)            float64\n",
            " 24  Pressure(in)           float64\n",
            " 25  Visibility(mi)         float64\n",
            " 26  Wind_Direction         object \n",
            " 27  Wind_Speed(mph)        float64\n",
            " 28  Precipitation(in)      float64\n",
            " 29  Weather_Condition      object \n",
            " 30  Amenity                bool   \n",
            " 31  Bump                   bool   \n",
            " 32  Crossing               bool   \n",
            " 33  Give_Way               bool   \n",
            " 34  Junction               bool   \n",
            " 35  No_Exit                bool   \n",
            " 36  Railway                bool   \n",
            " 37  Roundabout             bool   \n",
            " 38  Station                bool   \n",
            " 39  Stop                   bool   \n",
            " 40  Traffic_Calming        bool   \n",
            " 41  Traffic_Signal         bool   \n",
            " 42  Turning_Loop           bool   \n",
            " 43  Sunrise_Sunset         object \n",
            " 44  Civil_Twilight         object \n",
            " 45  Nautical_Twilight      object \n",
            " 46  Astronomical_Twilight  object \n",
            "dtypes: bool(13), float64(13), int64(1), object(20)\n",
            "memory usage: 773.4+ MB\n"
          ]
        }
      ]
    },
    {
      "cell_type": "code",
      "source": [
        "df.describe()"
      ],
      "metadata": {
        "colab": {
          "base_uri": "https://localhost:8080/",
          "height": 364
        },
        "id": "W5v8-iqMWG-n",
        "outputId": "66ff7e2c-99fc-4df9-9d46-d49eed0fad70"
      },
      "execution_count": 10,
      "outputs": [
        {
          "output_type": "execute_result",
          "data": {
            "text/plain": [
              "           Severity     Start_Lat     Start_Lng       End_Lat       End_Lng  \\\n",
              "count  2.845342e+06  2.845342e+06  2.845342e+06  2.845342e+06  2.845342e+06   \n",
              "mean   2.137572e+00  3.624520e+01 -9.711463e+01  3.624532e+01 -9.711439e+01   \n",
              "std    4.787216e-01  5.363797e+00  1.831782e+01  5.363873e+00  1.831763e+01   \n",
              "min    1.000000e+00  2.456603e+01 -1.245481e+02  2.456601e+01 -1.245457e+02   \n",
              "25%    2.000000e+00  3.344517e+01 -1.180331e+02  3.344628e+01 -1.180333e+02   \n",
              "50%    2.000000e+00  3.609861e+01 -9.241808e+01  3.609799e+01 -9.241772e+01   \n",
              "75%    2.000000e+00  4.016024e+01 -8.037243e+01  4.016105e+01 -8.037338e+01   \n",
              "max    4.000000e+00  4.900058e+01 -6.711317e+01  4.907500e+01 -6.710924e+01   \n",
              "\n",
              "       Distance(mi)        Number  Temperature(F)  Wind_Chill(F)  \\\n",
              "count  2.845342e+06  1.101431e+06    2.776068e+06   2.375699e+06   \n",
              "mean   7.026779e-01  8.089408e+03    6.179356e+01   5.965823e+01   \n",
              "std    1.560361e+00  1.836009e+04    1.862263e+01   2.116097e+01   \n",
              "min    0.000000e+00  0.000000e+00   -8.900000e+01  -8.900000e+01   \n",
              "25%    5.200000e-02  1.270000e+03    5.000000e+01   4.600000e+01   \n",
              "50%    2.440000e-01  4.007000e+03    6.400000e+01   6.300000e+01   \n",
              "75%    7.640000e-01  9.567000e+03    7.600000e+01   7.600000e+01   \n",
              "max    1.551860e+02  9.999997e+06    1.960000e+02   1.960000e+02   \n",
              "\n",
              "        Humidity(%)  Pressure(in)  Visibility(mi)  Wind_Speed(mph)  \\\n",
              "count  2.772250e+06  2.786142e+06    2.774796e+06     2.687398e+06   \n",
              "mean   6.436545e+01  2.947234e+01    9.099391e+00     7.395044e+00   \n",
              "std    2.287457e+01  1.045286e+00    2.717546e+00     5.527454e+00   \n",
              "min    1.000000e+00  0.000000e+00    0.000000e+00     0.000000e+00   \n",
              "25%    4.800000e+01  2.931000e+01    1.000000e+01     3.500000e+00   \n",
              "50%    6.700000e+01  2.982000e+01    1.000000e+01     7.000000e+00   \n",
              "75%    8.300000e+01  3.001000e+01    1.000000e+01     1.000000e+01   \n",
              "max    1.000000e+02  5.890000e+01    1.400000e+02     1.087000e+03   \n",
              "\n",
              "       Precipitation(in)  \n",
              "count       2.295884e+06  \n",
              "mean        7.016940e-03  \n",
              "std         9.348831e-02  \n",
              "min         0.000000e+00  \n",
              "25%         0.000000e+00  \n",
              "50%         0.000000e+00  \n",
              "75%         0.000000e+00  \n",
              "max         2.400000e+01  "
            ],
            "text/html": [
              "\n",
              "  <div id=\"df-6105a131-b932-4bbb-a4ec-7d9c096cde3a\">\n",
              "    <div class=\"colab-df-container\">\n",
              "      <div>\n",
              "<style scoped>\n",
              "    .dataframe tbody tr th:only-of-type {\n",
              "        vertical-align: middle;\n",
              "    }\n",
              "\n",
              "    .dataframe tbody tr th {\n",
              "        vertical-align: top;\n",
              "    }\n",
              "\n",
              "    .dataframe thead th {\n",
              "        text-align: right;\n",
              "    }\n",
              "</style>\n",
              "<table border=\"1\" class=\"dataframe\">\n",
              "  <thead>\n",
              "    <tr style=\"text-align: right;\">\n",
              "      <th></th>\n",
              "      <th>Severity</th>\n",
              "      <th>Start_Lat</th>\n",
              "      <th>Start_Lng</th>\n",
              "      <th>End_Lat</th>\n",
              "      <th>End_Lng</th>\n",
              "      <th>Distance(mi)</th>\n",
              "      <th>Number</th>\n",
              "      <th>Temperature(F)</th>\n",
              "      <th>Wind_Chill(F)</th>\n",
              "      <th>Humidity(%)</th>\n",
              "      <th>Pressure(in)</th>\n",
              "      <th>Visibility(mi)</th>\n",
              "      <th>Wind_Speed(mph)</th>\n",
              "      <th>Precipitation(in)</th>\n",
              "    </tr>\n",
              "  </thead>\n",
              "  <tbody>\n",
              "    <tr>\n",
              "      <th>count</th>\n",
              "      <td>2.845342e+06</td>\n",
              "      <td>2.845342e+06</td>\n",
              "      <td>2.845342e+06</td>\n",
              "      <td>2.845342e+06</td>\n",
              "      <td>2.845342e+06</td>\n",
              "      <td>2.845342e+06</td>\n",
              "      <td>1.101431e+06</td>\n",
              "      <td>2.776068e+06</td>\n",
              "      <td>2.375699e+06</td>\n",
              "      <td>2.772250e+06</td>\n",
              "      <td>2.786142e+06</td>\n",
              "      <td>2.774796e+06</td>\n",
              "      <td>2.687398e+06</td>\n",
              "      <td>2.295884e+06</td>\n",
              "    </tr>\n",
              "    <tr>\n",
              "      <th>mean</th>\n",
              "      <td>2.137572e+00</td>\n",
              "      <td>3.624520e+01</td>\n",
              "      <td>-9.711463e+01</td>\n",
              "      <td>3.624532e+01</td>\n",
              "      <td>-9.711439e+01</td>\n",
              "      <td>7.026779e-01</td>\n",
              "      <td>8.089408e+03</td>\n",
              "      <td>6.179356e+01</td>\n",
              "      <td>5.965823e+01</td>\n",
              "      <td>6.436545e+01</td>\n",
              "      <td>2.947234e+01</td>\n",
              "      <td>9.099391e+00</td>\n",
              "      <td>7.395044e+00</td>\n",
              "      <td>7.016940e-03</td>\n",
              "    </tr>\n",
              "    <tr>\n",
              "      <th>std</th>\n",
              "      <td>4.787216e-01</td>\n",
              "      <td>5.363797e+00</td>\n",
              "      <td>1.831782e+01</td>\n",
              "      <td>5.363873e+00</td>\n",
              "      <td>1.831763e+01</td>\n",
              "      <td>1.560361e+00</td>\n",
              "      <td>1.836009e+04</td>\n",
              "      <td>1.862263e+01</td>\n",
              "      <td>2.116097e+01</td>\n",
              "      <td>2.287457e+01</td>\n",
              "      <td>1.045286e+00</td>\n",
              "      <td>2.717546e+00</td>\n",
              "      <td>5.527454e+00</td>\n",
              "      <td>9.348831e-02</td>\n",
              "    </tr>\n",
              "    <tr>\n",
              "      <th>min</th>\n",
              "      <td>1.000000e+00</td>\n",
              "      <td>2.456603e+01</td>\n",
              "      <td>-1.245481e+02</td>\n",
              "      <td>2.456601e+01</td>\n",
              "      <td>-1.245457e+02</td>\n",
              "      <td>0.000000e+00</td>\n",
              "      <td>0.000000e+00</td>\n",
              "      <td>-8.900000e+01</td>\n",
              "      <td>-8.900000e+01</td>\n",
              "      <td>1.000000e+00</td>\n",
              "      <td>0.000000e+00</td>\n",
              "      <td>0.000000e+00</td>\n",
              "      <td>0.000000e+00</td>\n",
              "      <td>0.000000e+00</td>\n",
              "    </tr>\n",
              "    <tr>\n",
              "      <th>25%</th>\n",
              "      <td>2.000000e+00</td>\n",
              "      <td>3.344517e+01</td>\n",
              "      <td>-1.180331e+02</td>\n",
              "      <td>3.344628e+01</td>\n",
              "      <td>-1.180333e+02</td>\n",
              "      <td>5.200000e-02</td>\n",
              "      <td>1.270000e+03</td>\n",
              "      <td>5.000000e+01</td>\n",
              "      <td>4.600000e+01</td>\n",
              "      <td>4.800000e+01</td>\n",
              "      <td>2.931000e+01</td>\n",
              "      <td>1.000000e+01</td>\n",
              "      <td>3.500000e+00</td>\n",
              "      <td>0.000000e+00</td>\n",
              "    </tr>\n",
              "    <tr>\n",
              "      <th>50%</th>\n",
              "      <td>2.000000e+00</td>\n",
              "      <td>3.609861e+01</td>\n",
              "      <td>-9.241808e+01</td>\n",
              "      <td>3.609799e+01</td>\n",
              "      <td>-9.241772e+01</td>\n",
              "      <td>2.440000e-01</td>\n",
              "      <td>4.007000e+03</td>\n",
              "      <td>6.400000e+01</td>\n",
              "      <td>6.300000e+01</td>\n",
              "      <td>6.700000e+01</td>\n",
              "      <td>2.982000e+01</td>\n",
              "      <td>1.000000e+01</td>\n",
              "      <td>7.000000e+00</td>\n",
              "      <td>0.000000e+00</td>\n",
              "    </tr>\n",
              "    <tr>\n",
              "      <th>75%</th>\n",
              "      <td>2.000000e+00</td>\n",
              "      <td>4.016024e+01</td>\n",
              "      <td>-8.037243e+01</td>\n",
              "      <td>4.016105e+01</td>\n",
              "      <td>-8.037338e+01</td>\n",
              "      <td>7.640000e-01</td>\n",
              "      <td>9.567000e+03</td>\n",
              "      <td>7.600000e+01</td>\n",
              "      <td>7.600000e+01</td>\n",
              "      <td>8.300000e+01</td>\n",
              "      <td>3.001000e+01</td>\n",
              "      <td>1.000000e+01</td>\n",
              "      <td>1.000000e+01</td>\n",
              "      <td>0.000000e+00</td>\n",
              "    </tr>\n",
              "    <tr>\n",
              "      <th>max</th>\n",
              "      <td>4.000000e+00</td>\n",
              "      <td>4.900058e+01</td>\n",
              "      <td>-6.711317e+01</td>\n",
              "      <td>4.907500e+01</td>\n",
              "      <td>-6.710924e+01</td>\n",
              "      <td>1.551860e+02</td>\n",
              "      <td>9.999997e+06</td>\n",
              "      <td>1.960000e+02</td>\n",
              "      <td>1.960000e+02</td>\n",
              "      <td>1.000000e+02</td>\n",
              "      <td>5.890000e+01</td>\n",
              "      <td>1.400000e+02</td>\n",
              "      <td>1.087000e+03</td>\n",
              "      <td>2.400000e+01</td>\n",
              "    </tr>\n",
              "  </tbody>\n",
              "</table>\n",
              "</div>\n",
              "      <button class=\"colab-df-convert\" onclick=\"convertToInteractive('df-6105a131-b932-4bbb-a4ec-7d9c096cde3a')\"\n",
              "              title=\"Convert this dataframe to an interactive table.\"\n",
              "              style=\"display:none;\">\n",
              "        \n",
              "  <svg xmlns=\"http://www.w3.org/2000/svg\" height=\"24px\"viewBox=\"0 0 24 24\"\n",
              "       width=\"24px\">\n",
              "    <path d=\"M0 0h24v24H0V0z\" fill=\"none\"/>\n",
              "    <path d=\"M18.56 5.44l.94 2.06.94-2.06 2.06-.94-2.06-.94-.94-2.06-.94 2.06-2.06.94zm-11 1L8.5 8.5l.94-2.06 2.06-.94-2.06-.94L8.5 2.5l-.94 2.06-2.06.94zm10 10l.94 2.06.94-2.06 2.06-.94-2.06-.94-.94-2.06-.94 2.06-2.06.94z\"/><path d=\"M17.41 7.96l-1.37-1.37c-.4-.4-.92-.59-1.43-.59-.52 0-1.04.2-1.43.59L10.3 9.45l-7.72 7.72c-.78.78-.78 2.05 0 2.83L4 21.41c.39.39.9.59 1.41.59.51 0 1.02-.2 1.41-.59l7.78-7.78 2.81-2.81c.8-.78.8-2.07 0-2.86zM5.41 20L4 18.59l7.72-7.72 1.47 1.35L5.41 20z\"/>\n",
              "  </svg>\n",
              "      </button>\n",
              "      \n",
              "  <style>\n",
              "    .colab-df-container {\n",
              "      display:flex;\n",
              "      flex-wrap:wrap;\n",
              "      gap: 12px;\n",
              "    }\n",
              "\n",
              "    .colab-df-convert {\n",
              "      background-color: #E8F0FE;\n",
              "      border: none;\n",
              "      border-radius: 50%;\n",
              "      cursor: pointer;\n",
              "      display: none;\n",
              "      fill: #1967D2;\n",
              "      height: 32px;\n",
              "      padding: 0 0 0 0;\n",
              "      width: 32px;\n",
              "    }\n",
              "\n",
              "    .colab-df-convert:hover {\n",
              "      background-color: #E2EBFA;\n",
              "      box-shadow: 0px 1px 2px rgba(60, 64, 67, 0.3), 0px 1px 3px 1px rgba(60, 64, 67, 0.15);\n",
              "      fill: #174EA6;\n",
              "    }\n",
              "\n",
              "    [theme=dark] .colab-df-convert {\n",
              "      background-color: #3B4455;\n",
              "      fill: #D2E3FC;\n",
              "    }\n",
              "\n",
              "    [theme=dark] .colab-df-convert:hover {\n",
              "      background-color: #434B5C;\n",
              "      box-shadow: 0px 1px 3px 1px rgba(0, 0, 0, 0.15);\n",
              "      filter: drop-shadow(0px 1px 2px rgba(0, 0, 0, 0.3));\n",
              "      fill: #FFFFFF;\n",
              "    }\n",
              "  </style>\n",
              "\n",
              "      <script>\n",
              "        const buttonEl =\n",
              "          document.querySelector('#df-6105a131-b932-4bbb-a4ec-7d9c096cde3a button.colab-df-convert');\n",
              "        buttonEl.style.display =\n",
              "          google.colab.kernel.accessAllowed ? 'block' : 'none';\n",
              "\n",
              "        async function convertToInteractive(key) {\n",
              "          const element = document.querySelector('#df-6105a131-b932-4bbb-a4ec-7d9c096cde3a');\n",
              "          const dataTable =\n",
              "            await google.colab.kernel.invokeFunction('convertToInteractive',\n",
              "                                                     [key], {});\n",
              "          if (!dataTable) return;\n",
              "\n",
              "          const docLinkHtml = 'Like what you see? Visit the ' +\n",
              "            '<a target=\"_blank\" href=https://colab.research.google.com/notebooks/data_table.ipynb>data table notebook</a>'\n",
              "            + ' to learn more about interactive tables.';\n",
              "          element.innerHTML = '';\n",
              "          dataTable['output_type'] = 'display_data';\n",
              "          await google.colab.output.renderOutput(dataTable, element);\n",
              "          const docLink = document.createElement('div');\n",
              "          docLink.innerHTML = docLinkHtml;\n",
              "          element.appendChild(docLink);\n",
              "        }\n",
              "      </script>\n",
              "    </div>\n",
              "  </div>\n",
              "  "
            ]
          },
          "metadata": {},
          "execution_count": 10
        }
      ]
    },
    {
      "cell_type": "code",
      "source": [
        "numerics = ['int16', 'int32', 'int64', 'float16', 'float32', 'float64']\n",
        "numeric_df=df.select_dtypes(include=numerics)\n",
        "len(numeric_df.columns)\n"
      ],
      "metadata": {
        "colab": {
          "base_uri": "https://localhost:8080/"
        },
        "id": "B2uQr_8IWzSh",
        "outputId": "710a2575-7db9-43ee-8a48-47d1b24c55e8"
      },
      "execution_count": 11,
      "outputs": [
        {
          "output_type": "execute_result",
          "data": {
            "text/plain": [
              "14"
            ]
          },
          "metadata": {},
          "execution_count": 11
        }
      ]
    },
    {
      "cell_type": "markdown",
      "source": [
        "Percentage of missing values per column"
      ],
      "metadata": {
        "id": "kTQ3sA6Jt-Z0"
      }
    },
    {
      "cell_type": "code",
      "source": [
        "missing_percentage=df.isna().sum().sort_values(ascending=False) / len(df)\n",
        "missing_percentage"
      ],
      "metadata": {
        "colab": {
          "base_uri": "https://localhost:8080/"
        },
        "id": "UdrrjYrNs9wb",
        "outputId": "3da79a3d-d76c-4916-feb5-278a33883f0b"
      },
      "execution_count": 15,
      "outputs": [
        {
          "output_type": "execute_result",
          "data": {
            "text/plain": [
              "Number                   6.129003e-01\n",
              "Precipitation(in)        1.931079e-01\n",
              "Wind_Chill(F)            1.650568e-01\n",
              "Wind_Speed(mph)          5.550967e-02\n",
              "Wind_Direction           2.592834e-02\n",
              "Humidity(%)              2.568830e-02\n",
              "Weather_Condition        2.482514e-02\n",
              "Visibility(mi)           2.479350e-02\n",
              "Temperature(F)           2.434646e-02\n",
              "Pressure(in)             2.080593e-02\n",
              "Weather_Timestamp        1.783125e-02\n",
              "Airport_Code             3.356011e-03\n",
              "Timezone                 1.285961e-03\n",
              "Nautical_Twilight        1.007612e-03\n",
              "Civil_Twilight           1.007612e-03\n",
              "Sunrise_Sunset           1.007612e-03\n",
              "Astronomical_Twilight    1.007612e-03\n",
              "Zipcode                  4.635647e-04\n",
              "City                     4.814887e-05\n",
              "Street                   7.029032e-07\n",
              "Country                  0.000000e+00\n",
              "Junction                 0.000000e+00\n",
              "Start_Time               0.000000e+00\n",
              "End_Time                 0.000000e+00\n",
              "Start_Lat                0.000000e+00\n",
              "Turning_Loop             0.000000e+00\n",
              "Traffic_Signal           0.000000e+00\n",
              "Traffic_Calming          0.000000e+00\n",
              "Stop                     0.000000e+00\n",
              "Station                  0.000000e+00\n",
              "Roundabout               0.000000e+00\n",
              "Railway                  0.000000e+00\n",
              "No_Exit                  0.000000e+00\n",
              "Crossing                 0.000000e+00\n",
              "Give_Way                 0.000000e+00\n",
              "Bump                     0.000000e+00\n",
              "Amenity                  0.000000e+00\n",
              "Start_Lng                0.000000e+00\n",
              "End_Lat                  0.000000e+00\n",
              "End_Lng                  0.000000e+00\n",
              "Distance(mi)             0.000000e+00\n",
              "Description              0.000000e+00\n",
              "Severity                 0.000000e+00\n",
              "Side                     0.000000e+00\n",
              "County                   0.000000e+00\n",
              "State                    0.000000e+00\n",
              "ID                       0.000000e+00\n",
              "dtype: float64"
            ]
          },
          "metadata": {},
          "execution_count": 15
        }
      ]
    },
    {
      "cell_type": "code",
      "source": [
        "missing_percentage[missing_percentage !=0].plot(kind='barh')"
      ],
      "metadata": {
        "colab": {
          "base_uri": "https://localhost:8080/",
          "height": 282
        },
        "id": "yAMP30BquYn_",
        "outputId": "f5649d50-d186-41d6-87f6-134aba32c4a2"
      },
      "execution_count": 19,
      "outputs": [
        {
          "output_type": "execute_result",
          "data": {
            "text/plain": [
              "<matplotlib.axes._subplots.AxesSubplot at 0x7fbea78f8670>"
            ]
          },
          "metadata": {},
          "execution_count": 19
        },
        {
          "output_type": "display_data",
          "data": {
            "text/plain": [
              "<Figure size 432x288 with 1 Axes>"
            ],
            "image/png": "[encoded data removed]"
          },
          "metadata": {
            "needs_background": "light"
          }
        }
      ]
    },
    {
      "cell_type": "markdown",
      "source": [
        "Exploratory Analysis and Data Visualization"
      ],
      "metadata": {
        "id": "hO73UVE7vFIM"
      }
    },
    {
      "cell_type": "code",
      "source": [
        "df.columns"
      ],
      "metadata": {
        "colab": {
          "base_uri": "https://localhost:8080/"
        },
        "id": "SKy42hbMuuUj",
        "outputId": "e76160e4-0cf5-43fc-d33b-0819b417dc2b"
      },
      "execution_count": 20,
      "outputs": [
        {
          "output_type": "execute_result",
          "data": {
            "text/plain": [
              "Index(['ID', 'Severity', 'Start_Time', 'End_Time', 'Start_Lat', 'Start_Lng',\n",
              "       'End_Lat', 'End_Lng', 'Distance(mi)', 'Description', 'Number', 'Street',\n",
              "       'Side', 'City', 'County', 'State', 'Zipcode', 'Country', 'Timezone',\n",
              "       'Airport_Code', 'Weather_Timestamp', 'Temperature(F)', 'Wind_Chill(F)',\n",
              "       'Humidity(%)', 'Pressure(in)', 'Visibility(mi)', 'Wind_Direction',\n",
              "       'Wind_Speed(mph)', 'Precipitation(in)', 'Weather_Condition', 'Amenity',\n",
              "       'Bump', 'Crossing', 'Give_Way', 'Junction', 'No_Exit', 'Railway',\n",
              "       'Roundabout', 'Station', 'Stop', 'Traffic_Calming', 'Traffic_Signal',\n",
              "       'Turning_Loop', 'Sunrise_Sunset', 'Civil_Twilight', 'Nautical_Twilight',\n",
              "       'Astronomical_Twilight'],\n",
              "      dtype='object')"
            ]
          },
          "metadata": {},
          "execution_count": 20
        }
      ]
    },
    {
      "cell_type": "markdown",
      "source": [
        "Focus of Analysis\n",
        "1. City\n",
        "2. Start Time\n",
        "3. Start_Lng , Start-Lat\n",
        "4. Temperature\n",
        "5. Weather Conditions"
      ],
      "metadata": {
        "id": "5Um2R9bOvPE7"
      }
    },
    {
      "cell_type": "markdown",
      "source": [
        "City"
      ],
      "metadata": {
        "id": "C0J13Pnw2oYz"
      }
    },
    {
      "cell_type": "code",
      "source": [
        "cities=df.City.unique()\n",
        "len(cities)"
      ],
      "metadata": {
        "colab": {
          "base_uri": "https://localhost:8080/"
        },
        "id": "6X8vbNxNvmw5",
        "outputId": "5fb98597-eb9b-4b49-8243-718113c348e4"
      },
      "execution_count": 23,
      "outputs": [
        {
          "output_type": "execute_result",
          "data": {
            "text/plain": [
              "11682"
            ]
          },
          "metadata": {},
          "execution_count": 23
        }
      ]
    },
    {
      "cell_type": "code",
      "source": [
        "cities_accidents = df.City.value_counts()\n",
        "cities_accidents[:20]"
      ],
      "metadata": {
        "colab": {
          "base_uri": "https://localhost:8080/"
        },
        "id": "RB221clZv4S6",
        "outputId": "d56a1f55-fc58-4fae-b0ad-e6f390d27ac7"
      },
      "execution_count": 25,
      "outputs": [
        {
          "output_type": "execute_result",
          "data": {
            "text/plain": [
              "Miami           106966\n",
              "Los Angeles      68956\n",
              "Orlando          54691\n",
              "Dallas           41979\n",
              "Houston          39448\n",
              "Charlotte        33152\n",
              "Sacramento       32559\n",
              "San Diego        26627\n",
              "Raleigh          22840\n",
              "Minneapolis      22768\n",
              "Portland         20944\n",
              "Nashville        20267\n",
              "Austin           18301\n",
              "Baton Rouge      18182\n",
              "Phoenix          17143\n",
              "Saint Paul       16869\n",
              "New Orleans      16251\n",
              "Atlanta          15622\n",
              "Jacksonville     14967\n",
              "Richmond         14349\n",
              "Name: City, dtype: int64"
            ]
          },
          "metadata": {},
          "execution_count": 25
        }
      ]
    },
    {
      "cell_type": "code",
      "source": [
        "cities_accidents[:20].plot(kind='barh')"
      ],
      "metadata": {
        "colab": {
          "base_uri": "https://localhost:8080/",
          "height": 282
        },
        "id": "743LRvKdv4uH",
        "outputId": "1c08f8ba-4f81-4878-a40b-0ad8891c44d3"
      },
      "execution_count": 26,
      "outputs": [
        {
          "output_type": "execute_result",
          "data": {
            "text/plain": [
              "<matplotlib.axes._subplots.AxesSubplot at 0x7fbea7837ee0>"
            ]
          },
          "metadata": {},
          "execution_count": 26
        },
        {
          "output_type": "display_data",
          "data": {
            "text/plain": [
              "<Figure size 432x288 with 1 Axes>"
            ],
            "image/png": "[encoded data removed]"
          },
          "metadata": {
            "needs_background": "light"
          }
        }
      ]
    },
    {
      "cell_type": "code",
      "source": [
        "import seaborn as sns\n",
        "sns.set_style(\"darkgrid\")"
      ],
      "metadata": {
        "id": "v8cMu2Vxv49c"
      },
      "execution_count": 28,
      "outputs": []
    },
    {
      "cell_type": "code",
      "source": [
        "high_accident_cities=cities_accidents[cities_accidents>=1000]\n",
        "low_accident_cities=cities_accidents[cities_accidents<1000]"
      ],
      "metadata": {
        "id": "SmX02jQ_yilO"
      },
      "execution_count": 31,
      "outputs": []
    },
    {
      "cell_type": "code",
      "source": [
        "len(high_accident_cities) / len(cities)\n"
      ],
      "metadata": {
        "colab": {
          "base_uri": "https://localhost:8080/"
        },
        "id": "MZAld1Xby0ec",
        "outputId": "480b2a62-4c7c-424c-bf7b-59233018790a"
      },
      "execution_count": 34,
      "outputs": [
        {
          "output_type": "execute_result",
          "data": {
            "text/plain": [
              "0.04245848313644924"
            ]
          },
          "metadata": {},
          "execution_count": 34
        }
      ]
    },
    {
      "cell_type": "code",
      "source": [
        "sns.histplot(high_accident_cities, log_scale=True)"
      ],
      "metadata": {
        "colab": {
          "base_uri": "https://localhost:8080/",
          "height": 300
        },
        "id": "0XQ60CDszbjn",
        "outputId": "cae97676-563a-47fa-db34-e77d75f476b5"
      },
      "execution_count": 37,
      "outputs": [
        {
          "output_type": "execute_result",
          "data": {
            "text/plain": [
              "<matplotlib.axes._subplots.AxesSubplot at 0x7fbe984b2670>"
            ]
          },
          "metadata": {},
          "execution_count": 37
        },
        {
          "output_type": "display_data",
          "data": {
            "text/plain": [
              "<Figure size 432x288 with 1 Axes>"
            ],
            "image/png": "[encoded data removed]"
          },
          "metadata": {}
        }
      ]
    },
    {
      "cell_type": "code",
      "source": [
        "cities_accidents[cities_accidents==1]"
      ],
      "metadata": {
        "colab": {
          "base_uri": "https://localhost:8080/"
        },
        "id": "y-aarKSE0r5l",
        "outputId": "7abaa853-0376-4072-ad10-9267a5c02893"
      },
      "execution_count": 39,
      "outputs": [
        {
          "output_type": "execute_result",
          "data": {
            "text/plain": [
              "Carney                          1\n",
              "Waverly Hall                    1\n",
              "Center Sandwich                 1\n",
              "Glen Flora                      1\n",
              "Sulphur Springs                 1\n",
              "                               ..\n",
              "Ridgedale                       1\n",
              "Sekiu                           1\n",
              "Wooldridge                      1\n",
              "Bullock                         1\n",
              "American Fork-Pleasant Grove    1\n",
              "Name: City, Length: 1110, dtype: int64"
            ]
          },
          "metadata": {},
          "execution_count": 39
        }
      ]
    },
    {
      "cell_type": "markdown",
      "source": [
        "Start Time\n"
      ],
      "metadata": {
        "id": "9z6m7aPQ2gGQ"
      }
    },
    {
      "cell_type": "code",
      "source": [
        "df.Start_Time = pd.to_datetime(df.Start_Time)"
      ],
      "metadata": {
        "id": "oI4cksFw2DhB"
      },
      "execution_count": 53,
      "outputs": []
    },
    {
      "cell_type": "code",
      "source": [
        "sns.distplot(df.Start_Time.dt.hour, bins=24, kde=False, norm_hist=True)"
      ],
      "metadata": {
        "colab": {
          "base_uri": "https://localhost:8080/",
          "height": 352
        },
        "id": "UTzlVHUU2Dsm",
        "outputId": "582a1031-4f78-49f0-f5b0-a39b7a3800c0"
      },
      "execution_count": 54,
      "outputs": [
        {
          "output_type": "stream",
          "name": "stderr",
          "text": [
            "/usr/local/lib/python3.8/dist-packages/seaborn/distributions.py:2619: FutureWarning: `distplot` is a deprecated function and will be removed in a future version. Please adapt your code to use either `displot` (a figure-level function with similar flexibility) or `histplot` (an axes-level function for histograms).\n",
            "  warnings.warn(msg, FutureWarning)\n"
          ]
        },
        {
          "output_type": "execute_result",
          "data": {
            "text/plain": [
              "<matplotlib.axes._subplots.AxesSubplot at 0x7fbe98117a90>"
            ]
          },
          "metadata": {},
          "execution_count": 54
        },
        {
          "output_type": "display_data",
          "data": {
            "text/plain": [
              "<Figure size 432x288 with 1 Axes>"
            ],
            "image/png": "[encoded data removed]"
          },
          "metadata": {}
        }
      ]
    },
    {
      "cell_type": "markdown",
      "source": [
        "A high percentage of accidents occur between 6am to 10am and 11am to 4pm"
      ],
      "metadata": {
        "id": "xBW6wXqu4aC7"
      }
    },
    {
      "cell_type": "code",
      "source": [
        "sns.distplot(df.Start_Time.dt.month, bins=12, kde=False, norm_hist=True)"
      ],
      "metadata": {
        "colab": {
          "base_uri": "https://localhost:8080/",
          "height": 297
        },
        "id": "T8TeEIJU2D2W",
        "outputId": "05d07882-30f4-41c0-bac6-7744afaf1473"
      },
      "execution_count": 61,
      "outputs": [
        {
          "output_type": "execute_result",
          "data": {
            "text/plain": [
              "<matplotlib.axes._subplots.AxesSubplot at 0x7fbe94c28bb0>"
            ]
          },
          "metadata": {},
          "execution_count": 61
        },
        {
          "output_type": "display_data",
          "data": {
            "text/plain": [
              "<Figure size 432x288 with 1 Axes>"
            ],
            "image/png": "[encoded data removed]"
          },
          "metadata": {}
        }
      ]
    },
    {
      "cell_type": "markdown",
      "source": [
        "Least accidents on Weekends\n"
      ],
      "metadata": {
        "id": "r7BdOGAv5DUh"
      }
    },
    {
      "cell_type": "code",
      "source": [],
      "metadata": {
        "id": "WYmzFmxl2D_p"
      },
      "execution_count": null,
      "outputs": []
    },
    {
      "cell_type": "markdown",
      "source": [
        "Start Latitude and Longitude"
      ],
      "metadata": {
        "id": "rnBI_q8UHSjA"
      }
    },
    {
      "cell_type": "code",
      "source": [
        "df. Start_Lat"
      ],
      "metadata": {
        "colab": {
          "base_uri": "https://localhost:8080/"
        },
        "id": "vYhEdoEH7NvT",
        "outputId": "dcac9c74-1a86-4e87-db23-675b9c3c19d5"
      },
      "execution_count": 62,
      "outputs": [
        {
          "output_type": "execute_result",
          "data": {
            "text/plain": [
              "0          40.108910\n",
              "1          39.865420\n",
              "2          39.102660\n",
              "3          41.062130\n",
              "4          39.172393\n",
              "             ...    \n",
              "2845337    34.002480\n",
              "2845338    32.766960\n",
              "2845339    33.775450\n",
              "2845340    33.992460\n",
              "2845341    34.133930\n",
              "Name: Start_Lat, Length: 2845342, dtype: float64"
            ]
          },
          "metadata": {},
          "execution_count": 62
        }
      ]
    },
    {
      "cell_type": "code",
      "source": [
        "df.Start_Lng"
      ],
      "metadata": {
        "colab": {
          "base_uri": "https://localhost:8080/"
        },
        "id": "2C4fc6fe7N1m",
        "outputId": "d8426d6b-03ea-4f96-c390-551a619ff9bf"
      },
      "execution_count": 64,
      "outputs": [
        {
          "output_type": "execute_result",
          "data": {
            "text/plain": [
              "0          -83.092860\n",
              "1          -84.062800\n",
              "2          -84.524680\n",
              "3          -81.537840\n",
              "4          -84.492792\n",
              "              ...    \n",
              "2845337   -117.379360\n",
              "2845338   -117.148060\n",
              "2845339   -117.847790\n",
              "2845340   -118.403020\n",
              "2845341   -117.230920\n",
              "Name: Start_Lng, Length: 2845342, dtype: float64"
            ]
          },
          "metadata": {},
          "execution_count": 64
        }
      ]
    },
    {
      "cell_type": "code",
      "source": [
        "sample_df = df.sample(int(0.1 * len(df)))"
      ],
      "metadata": {
        "id": "3d4R7z2QK0ke"
      },
      "execution_count": 75,
      "outputs": []
    },
    {
      "cell_type": "code",
      "source": [
        "sns.scatterplot(x=sample_df.Start_Lng, y=sample_df.Start_Lat,size=0.001)"
      ],
      "metadata": {
        "colab": {
          "base_uri": "https://localhost:8080/",
          "height": 299
        },
        "id": "cTzctzDx7N7S",
        "outputId": "5a934608-20b1-44ef-fa4d-2bfe11009c33"
      },
      "execution_count": 72,
      "outputs": [
        {
          "output_type": "execute_result",
          "data": {
            "text/plain": [
              "<matplotlib.axes._subplots.AxesSubplot at 0x7fbe94cced00>"
            ]
          },
          "metadata": {},
          "execution_count": 72
        },
        {
          "output_type": "display_data",
          "data": {
            "text/plain": [
              "<Figure size 432x288 with 1 Axes>"
            ],
            "image/png": "[encoded data removed]"
          },
          "metadata": {}
        }
      ]
    },
    {
      "cell_type": "code",
      "source": [
        "import folium"
      ],
      "metadata": {
        "id": "JAPO_tvrHdep"
      },
      "execution_count": 73,
      "outputs": []
    },
    {
      "cell_type": "code",
      "source": [
        "lat,lon =df.Start_Lat[0], df.Start_Lng[0]\n",
        "lat,lon"
      ],
      "metadata": {
        "colab": {
          "base_uri": "https://localhost:8080/"
        },
        "id": "321JS03KOtGS",
        "outputId": "0f95f99a-74be-4a7b-d729-7b6ec8bc7fa0"
      },
      "execution_count": 77,
      "outputs": [
        {
          "output_type": "execute_result",
          "data": {
            "text/plain": [
              "(40.10891, -83.09286)"
            ]
          },
          "metadata": {},
          "execution_count": 77
        }
      ]
    },
    {
      "cell_type": "code",
      "source": [
        "list(zip(list(df.Start_Lat), list(df.Start_Lng)))"
      ],
      "metadata": {
        "id": "IANu1ovEQeQt"
      },
      "execution_count": null,
      "outputs": []
    },
    {
      "cell_type": "code",
      "source": [
        "sample_df = df.sample(int(0.001 * len(df)))\n",
        "lat_lon_pairs = list(zip(list(sample_df.Start_Lat), list(sample_df.Start_Lng)))"
      ],
      "metadata": {
        "id": "b56u2Tm6RU0t"
      },
      "execution_count": 90,
      "outputs": []
    },
    {
      "cell_type": "code",
      "source": [
        "from folium.plugins import HeatMap\n",
        "map = folium.Map()\n",
        "HeatMap(lat_lon_pairs).add_to(map)\n",
        "map\n"
      ],
      "metadata": {
        "colab": {
          "base_uri": "https://localhost:8080/",
          "height": 866
        },
        "id": "1rY9tY-UHdhY",
        "outputId": "c28c98f8-4235-4238-d8e5-e560c0d824d5"
      },
      "execution_count": 91,
      "outputs": [
        {
          "output_type": "execute_result",
          "data": {
            "text/plain": [
              "<folium.folium.Map at 0x7fbe0d4cd8b0>"
            ],
            "text/html": [
              "<div style=\"width:100%;\"><div style=\"position:relative;width:100%;height:0;padding-bottom:60%;\"><span style=\"color:#565656\">Make this Notebook Trusted to load map: File -> Trust Notebook</span><iframe srcdoc=\"&lt;!DOCTYPE html&gt;\n",
              "&lt;html&gt;\n",
              "&lt;head&gt;\n",
              "    \n",
              "    &lt;meta http-equiv=&quot;content-type&quot; content=&quot;text/html; charset=UTF-8&quot; /&gt;\n",
              "    \n",
              "        &lt;script&gt;\n",
              "            L_NO_TOUCH = false;\n",
              "            L_DISABLE_3D = false;\n",
              "        &lt;/script&gt;\n",
              "    \n",
              "    &lt;style&gt;html, body {width: 100%;height: 100%;margin: 0;padding: 0;}&lt;/style&gt;\n",
              "    &lt;style&gt;#map {position:absolute;top:0;bottom:0;right:0;left:0;}&lt;/style&gt;\n",
              "    &lt;script src=&quot;https://cdn.jsdelivr.net/npm/leaflet@1.6.0/dist/leaflet.js&quot;&gt;&lt;/script&gt;\n",
              "    &lt;script src=&quot;https://code.jquery.com/jquery-1.12.4.min.js&quot;&gt;&lt;/script&gt;\n",
              "    &lt;script src=&quot;https://maxcdn.bootstrapcdn.com/bootstrap/3.2.0/js/bootstrap.min.js&quot;&gt;&lt;/script&gt;\n",
              "    &lt;script src=&quot;https://cdnjs.cloudflare.com/ajax/libs/Leaflet.awesome-markers/2.0.2/leaflet.awesome-markers.js&quot;&gt;&lt;/script&gt;\n",
              "    &lt;link rel=&quot;stylesheet&quot; href=&quot;https://cdn.jsdelivr.net/npm/leaflet@1.6.0/dist/leaflet.css&quot;/&gt;\n",
              "    &lt;link rel=&quot;stylesheet&quot; href=&quot;https://maxcdn.bootstrapcdn.com/bootstrap/3.2.0/css/bootstrap.min.css&quot;/&gt;\n",
              "    &lt;link rel=&quot;stylesheet&quot; href=&quot;https://maxcdn.bootstrapcdn.com/bootstrap/3.2.0/css/bootstrap-theme.min.css&quot;/&gt;\n",
              "    &lt;link rel=&quot;stylesheet&quot; href=&quot;https://maxcdn.bootstrapcdn.com/font-awesome/4.6.3/css/font-awesome.min.css&quot;/&gt;\n",
              "    &lt;link rel=&quot;stylesheet&quot; href=&quot;https://cdnjs.cloudflare.com/ajax/libs/Leaflet.awesome-markers/2.0.2/leaflet.awesome-markers.css&quot;/&gt;\n",
              "    &lt;link rel=&quot;stylesheet&quot; href=&quot;https://cdn.jsdelivr.net/gh/python-visualization/folium/folium/templates/leaflet.awesome.rotate.min.css&quot;/&gt;\n",
              "    \n",
              "            &lt;meta name=&quot;viewport&quot; content=&quot;width=device-width,\n",
              "                initial-scale=1.0, maximum-scale=1.0, user-scalable=no&quot; /&gt;\n",
              "            &lt;style&gt;\n",
              "                #map_9541fb50598781490198aaa0683f9014 {\n",
              "                    position: relative;\n",
              "                    width: 100.0%;\n",
              "                    height: 100.0%;\n",
              "                    left: 0.0%;\n",
              "                    top: 0.0%;\n",
              "                }\n",
              "            &lt;/style&gt;\n",
              "        \n",
              "    &lt;script src=&quot;https://cdn.jsdelivr.net/gh/python-visualization/folium@master/folium/templates/leaflet_heat.min.js&quot;&gt;&lt;/script&gt;\n",
              "&lt;/head&gt;\n",
              "&lt;body&gt;\n",
              "    \n",
              "    \n",
              "            &lt;div class=&quot;folium-map&quot; id=&quot;map_9541fb50598781490198aaa0683f9014&quot; &gt;&lt;/div&gt;\n",
              "        \n",
              "&lt;/body&gt;\n",
              "&lt;script&gt;\n",
              "    \n",
              "    \n",
              "            var map_9541fb50598781490198aaa0683f9014 = L.map(\n",
              "                &quot;map_9541fb50598781490198aaa0683f9014&quot;,\n",
              "                {\n",
              "                    center: [0, 0],\n",
              "                    crs: L.CRS.EPSG3857,\n",
              "                    zoom: 1,\n",
              "                    zoomControl: true,\n",
              "                    preferCanvas: false,\n",
              "                }\n",
              "            );\n",
              "\n",
              "            \n",
              "\n",
              "        \n",
              "    \n",
              "            var tile_layer_da80508d36a0d76b0a87d161b1627dff = L.tileLayer(\n",
              "                &quot;https://{s}.tile.openstreetmap.org/{z}/{x}/{y}.png&quot;,\n",
              "                {&quot;attribution&quot;: &quot;Data by \\u0026copy; \\u003ca href=\\&quot;http://openstreetmap.org\\&quot;\\u003eOpenStreetMap\\u003c/a\\u003e, under \\u003ca href=\\&quot;http://www.openstreetmap.org/copyright\\&quot;\\u003eODbL\\u003c/a\\u003e.&quot;, &quot;detectRetina&quot;: false, &quot;maxNativeZoom&quot;: 18, &quot;maxZoom&quot;: 18, &quot;minZoom&quot;: 0, &quot;noWrap&quot;: false, &quot;opacity&quot;: 1, &quot;subdomains&quot;: &quot;abc&quot;, &quot;tms&quot;: false}\n",
              "            ).addTo(map_9541fb50598781490198aaa0683f9014);\n",
              "        \n",
              "    \n",
              "            var heat_map_92d7d92b7ea0ba6047f7d3a911b63bc2 = L.heatLayer(\n",
              "                [[39.419041, -76.635636], [32.794090000000004, -96.702526], [41.8153, -87.63048], [38.42845, -104.60746], [39.31624, -106.05716], [34.30833, -118.4293], [40.748666, -73.279505], [34.13677, -117.56687], [25.697906, -80.392276], [43.222485, -77.63887199999998], [42.761195, -73.758889], [39.240063, -76.611131], [33.710871000000004, -84.212683], [40.609772, -74.121792], [34.009395, -78.810973], [33.8764, -117.66024], [33.887381, -118.330592], [33.883331, -118.104068], [44.88997, -93.35364], [37.31855, -121.8899], [41.395477, -85.55148100000002], [31.783543, -106.42264], [33.419086, -86.677267], [33.853973, -117.901593], [40.242093, -78.847192], [34.154337, -118.122977], [37.980061, -122.065556], [34.5287, -82.83957], [25.733338, -80.302883], [30.512008, -83.89808599999998], [47.57693, -122.31978], [40.818017, -73.289827], [33.041376, -117.141959], [35.46178, -82.54499], [39.96962, -75.564075], [32.486057, -83.788689], [43.865884, -120.78791], [42.19682, -87.83059], [28.041343, -82.030218], [26.088732, -80.363116], [39.13511, -84.60014], [38.80387, -90.7682], [30.457558, -81.635936], [44.94928, -92.95871], [42.798648, -84.354632], [25.798738, -80.246048], [34.819073, -82.256252], [39.869938, -75.101241], [33.420941, -82.05589499999998], [43.751799, -123.144514], [37.71403, -122.45152], [42.535578, -71.741117], [28.407493, -81.40349], [44.09692, -121.30186], [38.22662, -85.82186999999998], [38.365856, -121.84143600000002], [32.777634, -117.141755], [33.782809, -84.245708], [30.534189, -87.313983], [32.177261, -111.111934], [41.101237, -73.986665], [30.419028000000004, -91.085919], [36.482588, -121.72831], [40.69991, -111.85404], [32.659746000000005, -114.349318], [34.466303, -118.33669], [30.424349, -91.151981], [33.620054, -112.21926299999998], [42.133882, -121.906994], [36.081617, -87.023309], [35.14693, -80.92612], [27.511528, -82.56304], [38.031082, -108.110115], [38.214502, -77.54315600000002], [36.981936, -121.557995], [33.498843, -117.65837], [30.43955900000001, -91.189946], [30.577914, -91.211819], [44.883352, -93.014756], [34.170615000000005, -117.181455], [44.970006, -93.329047], [34.004154, -118.281213], [42.348185, -87.874048], [29.982167, -90.075735], [42.44886500000001, -93.633674], [39.325507, -74.61533100000003], [30.492027, -84.432281], [34.921728, -81.989089], [37.017649, -121.52048899999998], [38.139973, -121.623758], [41.84799, -87.61623], [25.785128, -80.284211], [37.506539, -79.876832], [42.926788, -85.74550699999998], [32.83035, -96.84168], [45.026983, -93.285845], [33.940717, -117.261436], [44.517341, -73.498502], [33.733657, -117.815265], [36.739779, -119.77745], [36.161301, -86.773761], [41.88858, -72.6526], [38.561136, -121.483174], [43.050302, -83.673774], [29.746729, -95.388856], [41.51643, -81.66429000000002], [45.627776, -122.559174], [39.39221, -81.43948], [48.218753, -114.277128], [39.951157, -75.12388299999998], [33.83242, -118.20899], [34.628485, -82.391603], [33.941185, -117.23862], [35.20402, -84.873136], [35.067044, -81.278347], [34.141148, -118.277866], [34.036376000000004, -118.220576], [33.967545, -118.161392], [36.126407, -86.849228], [33.774405, -118.037597], [35.85887, -78.68054000000002], [41.687504, -91.89174], [39.28544, -76.59674], [38.934248, -77.210422], [42.96293, -83.763221], [38.522779, -76.995163], [40.186003, -77.234562], [32.981301, -96.76818], [34.07887, -118.21998], [33.72224, -86.656889], [43.364558, -124.298302], [25.760879, -80.422792], [32.80296, -116.95522], [33.064952000000005, -97.236743], [27.333817, -82.530982], [38.620788, -120.851643], [33.92564, -118.32161], [38.824045, -121.483604], [37.313929, -121.82732], [41.42434, -81.57898], [33.89775, -117.47803], [33.987054, -117.881507], [28.337178, -81.405074], [33.557863, -117.662064], [42.379471, -83.19265], [28.533359, -81.310425], [47.48587, -122.19469], [39.85884, -75.12522], [38.596651, -77.335341], [33.684413, -84.407395], [32.836, -96.606], [40.209702, -75.13946800000002], [39.871022, -75.10212], [44.09168, -123.09913], [33.46305, -112.18034], [34.406709, -117.371128], [35.247342, -111.979135], [44.315638, -93.964585], [40.895049, -74.25989200000002], [34.228343, -117.251327], [35.200418, -80.764094], [34.026501, -117.332984], [33.87647, -118.095693], [27.95669, -82.46048], [39.96358, -83.0197], [39.261424, -77.310305], [40.863231, -73.91128499999998], [38.790808, -121.292095], [39.02304, -77.0167], [34.127085, -110.11417], [44.95094, -93.10525], [38.018239, -122.266264], [40.08768, -76.28461], [37.233164, -119.917263], [42.204946, -87.940112], [38.32787800000001, -81.577883], [25.806401, -80.321012], [45.16806, -93.14292], [37.694483, -121.066121], [25.684949, -80.400578], [44.218404, -117.153456], [34.415641, -118.471682], [45.53107, -122.56484], [45.633764, -121.211882], [25.686576, -80.380597], [28.036562, -82.062045], [37.287469, -77.389422], [26.72262700000001, -81.915199], [26.018422, -80.16730799999998], [40.548558, -124.140444], [38.013871, -121.875801], [41.742428, -71.445044], [33.445869, -111.96904], [44.97011, -93.319944], [40.098277, -77.030953], [40.653737, -74.008015], [35.215819, -80.78586800000002], [35.180871999999994, -80.889641], [39.806157, -84.196196], [33.892136, -118.265242], [40.904341, -74.11285699999998], [41.568112, -73.93651], [35.973175, -86.805174], [47.120237, -122.436827], [39.60874, -106.45237], [39.900221, -104.988178], [46.215871, -114.155221], [32.799419, -96.793428], [28.074883000000003, -82.506938], [42.21375, -83.40778], [33.73568, -117.81931000000002], [41.601767, -87.14769799999998], [37.542183, -121.922624], [41.78346, -87.6306], [45.112403, -93.473049], [33.99354, -118.06932], [34.054356, -118.004333], [34.15247, -118.654199], [39.83606, -75.09174], [36.647929, -119.95705900000002], [37.876665, -122.30671], [45.068454, -93.258406], [39.793256, -121.898618], [35.316787, -80.945837], [46.225265, -96.040579], [38.277001, -77.23156999999998], [38.129755, -122.564699], [33.83831, -117.94594], [27.70761, -82.38772], [25.939824, -80.276035], [37.303507, -122.035392], [41.74693, -87.62529], [40.76876, -73.88205], [32.798191, -96.792865], [33.99406, -117.905331], [45.652512, -110.616287], [39.95863, -75.58001999999998], [30.439049, -91.182242], [40.544976, -121.57766200000002], [27.459501, -82.546658], [38.99106, -76.83246], [26.707839, -80.11112800000002], [47.46886, -122.20892], [45.09473, -93.29051], [33.883948, -117.525285], [32.798184, -96.792887], [42.244051, -85.563164], [40.75401, -111.62159], [37.46722800000001, -122.208944], [36.544782, -76.57643900000002], [40.74976, -111.60461], [37.627709, -121.030458], [36.23982, -86.745613], [45.796498, -118.367482], [29.692782, -95.358983], [36.677147, -119.927925], [37.27354, -78.28705], [35.801231, -78.571372], [34.64748, -117.215976], [32.893811, -117.120996], [28.552164, -81.344658], [32.95261, -117.21373], [33.766163, -117.937693], [25.57044800000001, -80.377651], [41.289322, -87.30498100000001], [30.533598, -87.123864], [35.768491, -80.862797], [38.230992, -76.479076], [40.71643, -73.97559], [45.046627, -122.974099], [45.64475, -122.66168], [40.944145, -77.723239], [41.551691, -73.05103100000002], [37.572148, -121.88865], [44.03583, -95.32094], [36.191878, -86.780591], [37.767438, -81.21828000000002], [29.942851, -90.093635], [38.8484, -76.95340999999998], [39.087473, -94.59175], [36.845794, -76.189144], [33.884161, -118.02656], [37.924917, -122.05821], [41.80896, -88.11726999999998], [33.842042, -118.285578], [25.816771, -80.248657], [39.05033, -94.47099], [35.095256, -80.932298], [25.78688, -80.21149], [40.900415, -73.795713], [35.400871, -118.985613], [44.30588, -121.17288], [29.362028, -98.442856], [33.838190999999995, -81.82637700000002], [30.442505, -88.720905], [39.782255, -75.87558299999998], [25.92958, -80.188317], [29.946018, -90.092531], [37.498966, -77.047816], [39.951519, -75.793091], [38.818534, -76.91265899999998], [33.977955, -117.981866], [36.214166, -86.605312], [25.811566, -80.370885], [34.16345, -118.62635], [38.416017, -85.75279], [25.945034, -80.171025], [38.627237, -77.07298399999998], [33.821829, -117.519453], [30.417585, -91.187357], [37.399019, -122.027651], [37.708935, -121.723677], [44.964991, -93.28224], [40.244792, -103.470894], [25.869004, -80.328959], [37.954347, -120.240776], [38.74072, -90.61346], [28.598887, -81.299091], [25.632913, -80.384566], [33.756576, -84.468437], [33.91643, -118.302325], [37.552525, -77.47882800000002], [33.736149, -117.819685], [25.924771, -80.293318], [35.842519, -78.522216], [34.067046999999995, -118.460969], [34.036089000000004, -118.321251], [34.247203000000006, -86.495036], [41.87402, -87.73034], [37.89092, -122.148361], [33.654164, -80.783507], [42.78531, -85.66834], [33.450431, -111.909304], [41.86689000000001, -87.91657], [42.56865, -113.616722], [25.721121, -80.367205], [34.04665, -118.16856], [29.781182, -95.364141], [34.071275, -117.952457], [42.363, -83.07004], [37.76676, -121.3349], [33.876932000000004, -118.185478], [28.82585, -81.32866], [33.688598, -78.953837], [39.211624, -76.61504000000002], [33.94775, -118.09301], [47.180697, -96.983271], [44.10235, -123.17136], [39.30946, -76.95798], [40.78491, -73.94109], [37.038742, -76.393078], [43.008481, -123.304549], [36.09564, -115.18054], [39.578299, -76.111079], [34.172117, -118.46771], [29.69565, -95.30007], [38.565365, -121.470488], [35.030518, -120.49533], [42.93278400000001, -85.66057099999998], [34.345808, -118.504116], [29.651143, -82.412931], [45.14282, -93.2793], [26.057327, -80.16233299999998], [45.361774, -122.855567], [33.055026, -80.166158], [33.739094, -117.075908], [34.145261, -118.20773], [44.959863, -92.779659], [34.150096999999995, -118.663283], [32.751596, -117.155884], [40.29449, -77.13258], [25.613293, -80.34745600000002], [36.224398, -119.333872], [28.66943, -81.45021], [34.746663, -92.365318], [38.675731, -77.255648], [34.023855, -118.276334], [38.52854, -121.46971], [39.651529, -77.800188], [33.805591, -118.31153799999998], [38.46493, -77.408282], [38.541206, -121.473732], [33.939288, -117.876552], [39.824985, -75.082175], [33.93991, -118.291583], [35.09901, -80.78211], [35.43154000000001, -96.12722], [41.190534, -111.971161], [38.773961, -121.241977], [28.551978, -81.47771800000002], [40.63705, -74.29281999999998], [32.794971999999994, -96.71918], [41.687589, -91.798163], [33.92851, -118.23917], [30.431063, -91.08038], [35.26685, -118.985342], [35.20623300000001, -80.758438], [41.687396, -86.864186], [40.716232, -73.819204], [34.702366999999995, -82.91327199999998], [27.34025, -80.413984], [41.030019, -73.77721600000002], [37.844885, -122.227202], [25.913002, -80.209923], [37.590273, -122.244003], [34.173274, -118.306471], [30.276895, -86.00808], [39.099065, -94.487432], [34.111567, -118.247048], [42.403782, -122.047194], [25.94267300000001, -80.203561], [33.939031, -79.931663], [33.62766, -84.40167], [33.757511, -117.25731100000002], [33.459874, -111.889459], [39.12315, -77.192], [40.239023, -83.154202], [46.76239, -92.12586], [40.518146, -76.46906], [42.06648, -88.20102], [31.767075, -106.460002], [33.87634, -118.01373999999998], [32.79139, -96.625094], [33.15566, -84.87115], [33.976914, -118.225117], [29.754348, -81.33115699999998], [28.573551, -81.37567], [36.045322, -86.701661], [44.910145, -116.951061], [32.909464, -96.839142], [39.633185, -75.659754], [34.964901, -82.19175600000001], [29.983390000000004, -90.05442], [34.066489000000004, -117.234474], [41.10967, -73.41913100000002], [34.137788, -112.14841], [34.077642, -117.62683], [38.113846, -77.76924100000002], [34.007020000000004, -117.82629], [34.050277, -118.214107], [33.747186, -118.30964099999998], [38.9964, -119.77949], [42.47442, -83.15587], [34.135687, -117.376334], [39.610294, -105.942653], [29.96388, -90.111834], [32.789538, -96.813079], [33.86674, -118.2852], [31.90741, -84.238747], [37.979131, -121.232268], [33.887318, -118.367458], [34.261089, -117.449609], [34.246207, -117.436375], [26.390415, -80.099676], [33.43592, -111.94436], [28.488991, -81.429112], [36.844149, -76.196574], [25.926108, -80.148338], [37.14623, -121.98619], [33.991125, -117.549954], [32.796008, -96.820461], [46.696282, -92.360762], [35.719586, -81.664023], [41.34775, -72.22503], [30.289784, -97.740261], [25.913562, -80.301879], [32.74133, -96.82464], [39.772702, -86.031532], [40.41778, -111.87502], [32.758093, -97.063156], [34.235109, -118.412351], [36.869371, -76.041977], [41.380702, -71.899799], [41.30019, -72.39025], [40.68799, -73.59273], [30.475205, -87.220276], [43.712136, -89.885145], [37.175027, -122.138445], [40.99825300000001, -120.808383], [32.977105, -86.686066], [30.098679, -81.83801], [37.377859, -77.408648], [38.35205300000001, -119.203387], [32.7872, -96.62435], [41.123482, -73.34176500000002], [26.79779000000001, -80.13153], [39.071298, -76.634842], [42.356247, -83.08110699999997], [45.37542, -122.75555], [33.956055, -118.040153], [39.145005, -122.07858600000002], [30.263028, -97.743213], [36.065751, -119.321968], [38.793012, -77.08382399999998], [40.877834, -111.937474], [43.23169, -77.7336], [36.01736, -76.572664], [38.882212, -77.028604], [25.852249, -80.13969200000003], [34.988617, -81.982076], [34.308192, -118.429468], [45.104383, -93.458495], [35.795492, -78.661059], [36.286779, -80.8178], [47.49987700000001, -122.195563], [25.7866, -80.21251], [33.39223, -112.07323999999998], [39.407047, -74.556366], [30.603414, -87.117898], [38.706867, -121.036271], [33.05836, -96.69325], [42.09824, -87.86797], [44.29982, -120.7228], [40.41373, -76.58845], [34.06844, -117.54597], [42.354239, -122.869831], [40.084327, -76.223865], [40.117356, -75.350346], [34.05608400000001, -118.255871], [34.853058000000004, -117.085341], [34.036476, -117.28373899999998], [41.50601, -87.65657], [33.924454, -117.288515], [34.00377, -118.280919], [34.00634, -118.06156], [33.931381, -117.412584], [38.594101, -76.045957], [38.970889, -77.17911099999998], [34.152179, -118.66641], [29.672459000000003, -95.276085], [40.707103, -74.253662], [38.866613, -77.321937], [25.809251, -80.318809], [41.69041, -87.77883], [33.63056, -83.961908], [34.053074, -118.22648], [40.686906, -111.797651], [27.95593, -82.46595], [37.948472, -77.895093], [25.68715, -80.357792], [32.744240999999995, -117.156233], [38.93799, -77.54146999999998], [34.00377, -118.413967], [41.57806, -87.57110899999998], [38.99167, -77.02403000000002], [30.339334, -97.700763], [38.715163, -121.364345], [44.97022, -93.25259], [48.122272, -114.077637], [30.3244, -81.43189699999998], [41.96256, -93.570157], [42.36147, -83.07294], [34.11464, -118.481851], [41.76355, -72.694698], [37.327932, -121.876127], [39.44198, -76.356858], [38.074487, -122.541497], [36.992241, -120.908522], [38.44300000000001, -121.862136], [40.253906, -74.515404], [41.79669000000001, -87.81414000000002], [41.56401, -81.58861], [37.403349, -77.42491], [44.34903, -93.95137], [27.447751, -82.573305], [28.079011, -80.691385], [41.550368, -73.593388], [29.381887, -98.512551], [34.004533, -78.964268], [36.06165, -79.38892], [26.797878000000004, -80.09850300000002], [29.63583, -95.52948], [38.69585, -76.872435], [30.168725, -81.535474], [35.537189, -119.192942], [33.860794, -118.313574], [34.034138, -118.183423], [33.780559000000004, -117.210931], [41.043482, -73.777821], [35.43433, -118.932033], [43.19549, -123.36113], [33.946262, -118.09409], [45.05795, -93.40078], [29.716808, -95.499074], [40.5103, -80.09465], [41.044457, -73.774585], [32.9047, -80.02470799999998], [34.13616, -117.50898], [32.80014, -96.7946], [34.154166, -118.345058], [45.42438, -122.56911], [36.95465, -76.26429], [47.369674, -93.169799], [28.304069, -81.453323], [36.858776, -77.41686700000002], [32.287461, -110.978274], [37.632417, -120.959107], [25.95802, -80.17108], [39.216226, -76.667098], [34.83026, -117.18027], [33.927690000000005, -118.26762], [34.023348, -117.811733], [35.402211, -83.291475], [30.320775, -81.688448], [25.763224, -80.299566], [33.988577, -117.909682], [33.948365, -117.301722], [38.27002, -118.09622], [39.08165200000001, -121.54154], [40.829708, -74.026074], [35.30067000000001, -80.80678], [30.274526, -97.78841], [33.11282, -97.027822], [47.190452, -114.886747], [43.991307, -92.229098], [25.568736, -80.363155], [32.891125, -96.819894], [38.710364, -121.075461], [29.722517, -95.388276], [28.068446, -81.95616899999997], [33.936584, -81.469018], [40.132856, -75.461042], [25.734217, -80.335882], [40.039201, -76.36098299999998], [45.683909, -109.454373], [33.459216999999995, -112.001323], [42.869929, -77.885846], [26.546164, -81.786186], [33.69109, -84.49824], [30.652548, -91.193222], [40.74254000000001, -74.53379699999998], [33.955659999999995, -117.38148], [37.971725, -121.241122], [39.76694000000001, -75.0468], [26.088207, -80.168542], [45.28955, -118.03536], [40.75061, -111.70818], [33.91075, -84.11363], [40.841847, -73.931609], [34.668471000000004, -118.395098], [39.22955, -76.71444], [33.820949, -79.02685699999998], [38.741776, -121.170574], [25.572906, -80.363357], [38.940234, -94.572695], [38.50658, -121.45698], [29.387940000000004, -98.50363], [40.031368, -75.47635600000002], [39.575965, -120.369807], [30.021031, -95.428825], [27.894853, -82.729023], [36.787732, -121.667895], [36.14419, -115.27899], [32.815936, -117.22286499999998], [42.947004, -77.61308299999997], [38.574202, -121.40158], [38.736311, -77.390178], [30.410983, -84.235068], [42.007974, -93.565288], [37.851316, -122.028689], [30.2887, -81.6275], [33.023990000000005, -96.710103], [33.91403, -118.10568], [40.96723, -76.876109], [35.779659, -119.253367], [44.170233, -122.242755], [38.903285, -119.969576], [32.278087, -90.156802], [40.40297, -79.91663], [26.556948, -81.656279], [32.658909, -117.07931299999998], [37.51028, -121.97122], [42.87912, -78.87635], [44.091769, -123.17104], [25.92601, -80.15374], [33.769576, -117.915493], [38.068292, -84.473462], [39.019182, -76.97632800000002], [33.189378999999995, -117.361694], [35.168952000000004, -120.582399], [37.61083, -122.3929], [35.873037, -78.830849], [36.72326500000001, -76.06309499999998], [42.6638, -84.53358], [36.107114, -86.719797], [38.060106, -77.504028], [36.894184, -76.232848], [40.436457, -75.425037], [33.920562, -118.369426], [29.356123, -82.22184], [35.526641, -119.188817], [28.53559000000001, -81.37935999999998], [34.322727, -117.398424], [38.612807, -121.511482], [29.964607, -90.108777], [33.87565, -118.192976], [34.943768, -80.84085300000002], [37.743468, -97.299094], [39.81589, -74.99164], [40.42736, -111.88691], [42.40814500000001, -122.176313], [30.309490000000004, -81.647391], [42.262476, -83.1769], [40.729933, -73.97241700000002], [34.809847999999995, -82.232762], [35.161473, -80.876047], [34.813244, -118.884452], [34.03235, -117.759093], [40.150341, -74.700307], [39.72557000000001, -105.06053], [33.93796, -117.125116], [39.905658, -86.04549], [33.93916, -117.12913], [35.43377, -96.66528], [38.352586, -77.048473], [45.116782, -93.197909], [34.817708, -118.884761], [40.896771, -124.083135], [34.57953, -82.69174], [37.9421, -121.14803], [37.386619, -121.905526], [33.907159, -118.160256], [34.640944, -82.582649], [40.48408, -74.4195], [33.8907, -118.04166], [29.92693, -90.090698], [34.145861, -117.314254], [34.50048, -118.22806], [36.667631, -77.555655], [42.42637, -83.76798000000002], [37.786226, -122.195052], [32.923396000000004, -96.992336], [42.4276, -123.237755], [33.880959999999995, -117.59985], [41.98737, -87.75135999999998], [30.461074, -91.101646], [26.43137, -81.804868], [37.703472, -121.078093], [35.036988, -85.152035], [39.984234, -75.816148], [27.548314, -82.425627], [36.845512, -76.24865], [26.545156, -81.839239], [29.808965, -95.44144], [36.76841, -119.83631], [40.66444, -73.84532], [33.180547999999995, -87.525627], [25.840029, -80.309927], [30.385028, -102.44373], [27.785507, -82.35848299999998], [38.333996, -77.497694], [45.44604, -122.57893], [27.58359, -82.588766], [40.70284, -73.93353], [25.846986, -80.211189], [40.507847, -122.339318], [41.55179, -73.04808], [37.33288, -122.05438999999998], [25.967728, -80.32826999999997], [37.677476, -77.193403], [34.043734, -81.098975], [33.961618, -118.368209], [38.853496, -77.005561], [42.190178, -120.34598], [39.69087, -105.188009], [30.267598, -97.719816], [28.68761, -81.38861], [42.138574, -87.886907], [36.750098, -119.663975], [25.906932, -80.238078], [37.234019, -77.39558000000002], [32.848015999999994, -117.178598], [38.78726, -121.22425], [41.224155, -77.057642], [35.263708, -80.79507199999998], [33.825955, -118.236341], [40.70097, -73.99471], [33.338545, -110.594377], [34.03717, -118.08882], [41.81808, -87.74343], [40.06687, -75.31021700000002], [32.75971, -97.13479], [34.065961, -117.481483], [29.862095, -95.403932], [30.500682, -84.247561], [41.85621, -88.10226], [47.30213, -122.2518], [33.98266, -118.39496], [28.37309, -80.75504000000002], [33.804341, -118.15891299999998], [40.726368, -73.766366], [35.751859, -78.765519], [34.923358, -81.025599], [38.130101, -121.315946], [34.022431, -118.426459], [34.020212, -117.814998], [34.324356, -118.002973], [35.010133, -118.160952], [34.06649, -117.20703], [42.73187, -73.897873], [40.739759, -74.080188], [48.333423, -115.495189], [33.566894, -117.180743], [42.178155, -119.966551], [34.028558000000004, -117.331037], [43.90524, -116.81323], [38.618541, -121.514078], [40.19952, -75.3182], [42.30067, -71.80578], [28.087966, -82.461412], [29.741059000000003, -95.450201], [44.89047100000001, -93.399047], [39.95847, -75.16771999999997], [37.348269, -77.40549399999998], [37.216819, -77.39277], [38.775816, -77.298878], [25.685449, -80.415724], [45.498322, -94.213675], [32.250574, -110.861725], [30.589014, -88.158789], [37.941567, -122.472645], [37.701387, -121.769828], [45.06919, -93.27983], [43.14659, -77.61994], [38.477126, -77.399888], [39.8729, -75.29528], [33.577808000000005, -84.277744], [37.396605, -121.874566], [44.77898, -93.33641], [34.846684, -92.14928], [29.994052000000003, -90.095568], [42.733442, -73.78773000000002], [32.840887, -117.134849], [25.775463, -80.373343], [42.477448, -83.203153], [33.999485, -84.58923], [27.937885, -82.227695], [41.569943, -87.398026], [39.94866, -78.083428], [45.490362, -123.123832], [44.21597, -116.98627], [40.55537, -74.443359], [40.64491, -74.20826], [44.19609000000001, -94.235674], [25.712548, -80.382427], [42.636469, -73.788224], [34.126028000000005, -77.899603], [40.827023, -121.928729], [39.768923, -84.200938], [42.516159, -73.60990799999998], [32.953609, -96.910217], [40.10294, -74.724057], [34.073878, -81.004269], [46.687085, -94.702247], [35.28022100000001, -82.397686], [33.63132, -84.39628], [32.834857, -96.663719], [30.494619, -91.169655], [45.06973, -93.293399], [40.22796500000001, -74.757414], [37.769461, -122.411137], [39.04649000000001, -77.11245500000003], [30.170741, -81.55708], [29.715251, -95.500299], [38.852091, -76.908817], [40.853374, -73.961688], [46.703211, -92.301191], [28.549415000000003, -81.379138], [33.498252, -80.973519], [33.8551, -118.223202], [36.151375, -86.796068], [37.578381, -77.466713], [33.955692, -84.123032], [34.17524, -79.808603], [40.84478, -73.90484000000002], [28.565414, -81.17659300000003], [27.964839, -82.446154], [25.87242, -80.20888000000002], [37.643058, -122.406002], [40.85022, -73.944779], [33.928259999999995, -118.28576], [37.278514, -121.864495], [34.269586, -118.853284], [34.13565, -117.96679], [40.71923, -73.79193000000002], [32.698627, -96.897276], [36.699016, -121.667832], [33.727025, -78.91638499999998], [32.463852, -93.763942], [39.297894, -121.595013], [34.06728, -117.55282], [41.029002, -122.397132], [33.882046, -118.191397], [37.757053000000006, -77.438357], [36.896485, -121.747785], [36.884257, -76.182202], [37.483621, -122.400632], [35.368997, -118.905267], [32.43829, -110.99087], [39.258993, -103.69607], [36.805771, -119.88368], [34.609687, -120.087436], [36.03305, -79.80118], [33.58805, -84.38351999999998], [40.215228, -76.687177], [47.657328, -122.322646], [27.462489, -82.58552900000002], [27.344019, -82.438087], [41.54975, -87.33646999999998], [29.579476, -98.316284], [40.934768, -73.878968], [42.65694000000001, -84.1931], [37.526993, -120.795368], [33.729432, -117.387746], [32.23032, -110.98252], [40.209142, -75.446145], [34.894524, -120.436066], [33.973209999999995, -118.16805], [41.27058, -96.0759], [38.567855, -121.613515], [36.149793, -86.859383], [45.185748, -117.989741], [41.057378, -73.81305], [28.5054, -81.42251], [34.226579, -118.387832], [44.89216, -92.99921], [39.29474, -76.60606999999997], [40.53518, -111.41005], [33.84145, -118.28613], [34.303248, -118.479759], [38.148391, -121.654194], [36.98451, -122.029717], [37.71122, -122.16472], [38.530226, -121.971084], [40.624898, -74.306513], [32.85241, -96.56523], [40.235699, -76.973208], [32.820893, -117.165724], [42.861002, -83.739949], [26.222404, -80.136235], [40.243157, -75.28214200000002], [42.34958, -71.05708], [40.13887800000001, -75.11281899999999], [44.09398, -94.29619], [34.03562, -80.938], [40.13372, -75.18903], [44.39853, -88.428709], [45.058812, -93.308675], [34.921544, -81.986565], [42.67194, -82.94062], [33.856823, -118.028676], [42.269466, -84.437169], [25.671568, -80.432707], [25.447771, -80.47863000000002], [37.002677, -76.319908], [43.906806, -92.859095], [28.843964, -82.090536], [30.354342, -91.018032], [33.386590000000005, -111.74861], [25.685045, -80.428016], [40.04313, -76.247225], [37.562936, -122.271469], [38.254799, -121.300682], [28.539138, -81.281165], [27.956647, -82.463184], [35.87197000000001, -78.642075], [33.557939000000005, -86.830836], [40.79566, -73.82557], [28.549379, -81.203716], [29.737833, -81.242254], [27.80652000000001, -82.67138], [37.560611, -122.302751], [40.782011, -74.20124100000002], [38.56178, -121.6473], [35.673451, -78.514655], [26.17255, -80.8793], [41.664694, -93.472529], [37.297781, -122.02917], [42.896273, -84.089011], [33.918749, -118.035441], [35.046182, -85.200144], [34.14086, -118.22784], [30.437905, -81.724562], [35.314037, -81.988754], [33.908582, -84.22896899999998], [37.65896, -77.60223], [40.315157, -76.929048], [28.879698, -81.945101], [34.134223, -117.309899], [34.01517, -118.17009], [35.899297, -78.608177], [30.175956, -81.55901300000002], [37.701175, -121.855281], [34.040568, -118.17358], [37.698033, -121.979662], [29.593425, -95.191879], [28.577874, -81.452623], [43.43145, -95.54457], [33.98819, -118.061471], [37.45544, -121.074089], [35.191649, -89.932947], [45.033099, -89.174093], [39.012236, -76.96535899999998], [29.737521, -95.50281], [36.797156, -76.001162], [42.16155, -88.13605], [34.084824, -117.208755], [27.447751, -82.574423], [42.32824, -83.44366], [34.36443, -117.43155], [38.503736, -122.469843], [36.881962, -76.302361], [38.03279000000001, -78.86444399999998], [28.515103000000003, -81.288635], [43.010783, -88.227737], [45.07861, -122.043417], [37.776434, -122.403034], [32.85205, -117.115405], [40.065549, -76.335178], [31.75608, -106.2741], [38.869789, -77.047022], [38.068481, -121.263662], [38.02287000000001, -79.14445], [35.036722999999995, -85.319683], [34.223032, -82.122724], [45.223246, -123.194562], [33.891825, -117.55579], [26.68521, -80.06889], [30.628862, -81.559791], [30.421821, -91.08004], [32.836681, -96.820636], [36.159051, -115.28033700000002], [38.56384, -121.63676], [30.168424, -81.593538], [42.113611, -124.305491], [37.479961, -122.199647], [35.194927, -113.848518], [32.770038, -117.138987], [42.272164, -84.40173100000001], [35.21544, -80.72323], [36.152444, -95.851154], [40.993927, -78.253651], [28.336876, -82.660546], [45.264903, -108.911802], [33.855432, -117.787009], [34.426962, -117.62072], [34.060497, -118.21497], [38.838535, -75.785645], [33.774504, -118.007524], [35.064613, -80.767483], [33.75862, -84.37915], [33.956818, -117.306745], [40.413283, -111.874654], [38.909636, -77.023955], [38.632893, -121.394052], [29.933783, -90.007244], [25.685169, -80.446102], [38.238729, -77.499553], [30.536907, -87.087323], [38.27668, -121.304567], [35.30778, -80.84533], [37.438899, -122.112673], [46.293589, -113.933505], [40.265563, -74.268766], [40.229284, -81.004816], [29.028969, -82.15871700000002], [37.49585, -121.922875], [33.58806, -84.50859], [29.537189, -98.383799], [32.78833, -117.11376], [34.23557, -118.47296], [33.80272, -118.13193], [28.20867800000001, -82.66624499999998], [38.902522, -77.033682], [32.76709, -117.14749], [32.501821, -93.741658], [39.976334, -78.066642], [38.879449, -77.246792], [30.417324, -91.14523], [26.094357, -80.16888900000002], [42.13006, -72.06761], [43.861191, -120.773057], [25.97199, -80.233358], [30.409494, -86.811643], [33.821394, -84.252184], [25.684472, -80.441091], [38.735852, -77.193629], [43.03227, -76.05524], [34.900445, -81.920586], [30.325366, -97.77432], [45.01118, -93.08982], [34.671293, -92.076036], [45.064405, -93.222738], [35.843975, -78.68062900000002], [43.86869, -91.223074], [35.336161, -80.742698], [28.350825, -81.528367], [34.731059, -82.814397], [25.597876, -80.375026], [36.18097, -115.14493], [32.73498, -96.82382], [33.295022, -84.564994], [32.717799, -117.14783], [38.724092, -121.95833799999998], [44.25982800000001, -117.18113], [27.915378000000004, -81.05456099999998], [27.947223, -82.353861], [33.61183, -117.70402], [34.48401, -83.0282], [42.008203, -88.203228], [41.671689, -86.34119799999998], [37.231893, -93.337525], [35.463437, -119.261043], [42.757541, -71.49308], [25.772407, -80.236372], [34.034904, -118.367525], [33.409357, -86.664603], [33.767713, -118.032571], [27.109298, -82.347924], [42.54815, -87.95255], [42.492166, -83.508228], [42.58235, -82.99335], [35.858873, -78.639615], [38.42720300000001, -78.877276], [30.344601, -81.668307], [38.577302, -121.507475], [43.612858, -123.216809], [34.067609999999995, -117.56668], [32.657302, -117.10671], [34.781717, -111.613959], [32.77219, -117.02713], [39.426357, -123.30258700000002], [34.139084999999994, -117.94688899999998], [43.174963, -123.370662], [37.663472, -122.465466], [34.958761, -92.422088], [34.783186, -118.660987], [33.810543, -84.263767], [33.970252, -118.23022], [33.441324, -117.137814], [34.087259, -117.645406], [35.0111, -85.27172], [30.52072, -88.270623], [33.942636, -117.279733], [41.194407, -112.02583], [33.069759000000005, -86.730397], [38.898714, -77.196496], [35.071220000000004, -82.6064], [25.654991, -80.415655], [35.856544, -78.671566], [32.340674, -95.326227], [41.57763, -87.5757], [35.141255, -80.92965500000003], [40.772058, -74.042549], [25.927232, -80.15359699999998], [25.672005, -80.382019], [35.200164, -80.760661], [40.117662, -75.347955], [39.873859, -121.681067], [34.067707, -117.590347], [25.589586, -80.382597], [29.96271, -90.100969], [44.970006, -93.328556], [43.149737, -123.365017], [25.972088, -80.210236], [34.992538, -120.434221], [34.034822, -118.466906], [34.129039, -118.347419], [33.872439, -118.202304], [28.276048, -81.473608], [37.602587, -77.434062], [37.51743, -77.46569000000002], [25.68872, -80.30865], [34.99475, -82.246914], [33.660067, -117.9005], [33.940994, -117.243761], [32.770038, -117.138987], [25.82284, -80.32151999999998], [30.506331, -91.170742], [25.598544, -80.355891], [28.332935, -81.511737], [32.23573, -110.858], [25.937257, -80.197469], [34.068165, -117.977818], [30.432064, -87.24009699999998], [41.87179, -87.91705999999998], [39.761346, -84.26622900000002], [26.10626, -80.16851700000002], [32.873482, -96.665569], [35.016331, -85.254612], [34.146763, -118.784254], [46.23506, -123.87196000000002], [26.330517, -81.80828299999997], [39.492931, -121.449318], [40.037069, -76.32383], [45.715536, -95.881872], [42.23562, -75.91593], [43.71648, -92.9899], [33.827623, -118.287466], [29.642045, -95.244522], [30.397047, -91.108351], [25.535751, -80.385002], [39.88123, -75.66572], [40.111783, -75.336945], [38.82821, -76.92839000000002], [32.078307, -81.24375699999999], [39.787764, -84.213723], [36.114982, -86.747298], [45.53553, -122.5878], [39.934197, -111.128479], [40.04169, -75.48608], [47.371345, -122.772484], [32.659138, -96.732266], [35.987432, -83.972975], [25.890378, -80.184467], [39.42605, -77.478943], [33.65615, -117.74444], [41.2468, -73.085045], [32.755571999999994, -80.4624], [29.87203, -95.40891], [27.064143, -82.417985], [33.934096000000004, -117.40783], [40.845031, -73.907555], [39.079247, -120.959389], [39.64884, -105.18074], [38.29324, -77.521376], [34.087416999999995, -117.670279], [35.844561, -78.680376], [33.555505, -117.14003999999998], [45.445257, -122.73553400000002], [34.409769, -83.190182], [45.010023, -93.191616], [38.25864, -85.74696999999998], [30.280127, -81.984377], [39.828411, -86.033796], [39.254654, -94.659372], [32.35972, -95.307646], [39.294992, -76.52307900000002], [39.755853, -84.203273], [35.183473, -81.32911], [32.750726, -96.920069], [41.04088, -73.57815], [38.694355, -77.256313], [29.9139, -95.55615], [32.836021, -97.312141], [36.24803, -86.72035], [35.202995, -111.413244], [33.46282, -112.21426], [45.47045, -122.67813999999998], [37.29411, -120.321107], [40.429033, -79.95638199999998], [34.671206, -80.736051], [45.28104, -123.82399], [40.370677, -75.45940999999998], [37.570583, -122.515936], [34.045602, -117.310263], [34.160324, -118.469985], [25.684097, -80.457099], [34.78379, -92.39128], [39.41814, -74.54990699999998], [34.985507, -118.945177], [33.810585, -86.674972], [34.198297, -118.473954], [26.538269, -80.0733], [34.102940000000004, -80.83404], [28.453644, -81.399952], [28.411182, -81.229437], [30.524137, -87.313381], [28.458325, -81.359408], [28.345676, -81.532978], [37.877702, -122.307273], [34.069694, -117.964795], [39.84894600000001, -75.713535], [38.93774000000001, -94.4773], [41.371501, -73.801019], [37.105037, -121.014984], [38.36998, -122.30091000000002], [35.006801, -85.230346], [40.105731, -75.34604399999998], [33.937296999999994, -118.296237], [32.915002, -86.643283], [33.922082, -117.88031399999998], [41.103347, -114.74876], [33.174695, -87.524688], [37.429479, -121.918466], [44.08258, -121.3013], [33.999792, -117.849282], [39.943874, -104.840375], [37.784342, -121.306866], [28.238119, -80.676503], [37.70154, -121.86729], [36.753032, -119.704916], [45.64883, -120.96094], [43.629209, -93.327562], [39.76653, -104.99482], [38.698292, -121.335296], [25.670988, -80.413044], [34.01882, -117.340199], [33.81041, -118.08132], [45.38608, -122.39629], [40.84609, -111.91459], [33.206829, -80.43618000000002], [38.75167, -90.7561], [38.055553, -122.147725], [30.460549, -84.242917], [30.01015, -95.76893], [32.791453000000004, -117.112809], [37.34564, -121.84328], [25.831073, -80.242384], [43.654861, -71.07006], [34.135357, -118.000743], [32.78304, -96.80963], [42.966231, -76.860748], [37.87947, -122.515057], [34.844018, -82.342186], [32.307758, -95.278993], [28.056144, -82.738772], [45.098749, -93.188137], [34.683532, -81.18519599999998], [42.378891, -83.206597], [39.023258, -84.48139599999998], [26.667277, -81.88809499999998], [40.86851, -73.87236], [30.44058, -84.31716999999998], [43.087102, -121.822532], [37.32897, -121.87006], [37.057152, -120.970469], [47.53995, -122.33469], [35.49329, -97.57939], [30.039963, -89.96645500000002], [38.89832, -77.01424300000002], [42.980157, -85.60515699999998], [41.328088, -73.82004599999998], [37.32018, -122.032401], [33.941666999999995, -118.279704], [39.090263, -85.275754], [34.39721, -118.572166], [28.539112, -81.47573], [34.721637, -81.201515], [45.583852, -118.622721], [33.124585, -117.103922], [32.721634, -117.148899], [25.734897, -80.30295], [36.55052, -76.192797], [41.961218, -91.779581], [45.41041, -122.48608], [42.636469, -73.788224], [39.785431, -75.546165], [40.721644, -74.00723], [42.488144, -83.488476], [39.028138, -121.39724], [33.903523, -118.105364], [37.778081, -122.401165], [40.908676, -123.70711599999998], [43.091993, -75.197061], [40.694236, -73.96705899999998], [34.779024, -92.261284], [40.63168, -73.88427], [26.351016, -80.17048299999998], [40.033811, -76.599725], [43.011901, -83.658478], [34.068185, -118.026743], [29.77976, -95.45081], [40.789301, -76.546702], [33.892761, -118.187974], [33.75412, -84.37841999999998], [32.88427, -117.20211], [38.662622, -121.344813], [29.972108, -90.125881], [40.173577, -75.438903], [41.732559, -72.663384], [34.020707, -117.814748], [34.194590000000005, -82.18979200000003], [33.020003, -117.110071], [41.750032, -72.72958299999998], [34.269106, -110.022667], [34.385136, -112.091134], [27.198127000000003, -82.439252], [30.453151, -91.166066], [34.700392, -118.1702], [39.939316, -120.962712], [33.98431, -118.256441], [33.266983, -84.213984], [39.823974, -86.205893], [32.769489, -96.804641], [40.043739, -75.0029], [34.061440000000005, -118.247611], [45.22004, -123.19756], [25.702455, -80.332105], [37.214776, -93.266267], [36.813287, -76.195623], [44.127814, -122.474653], [37.55005, -77.379319], [33.033045, -117.279149], [34.065173, -117.309775], [28.373479, -81.42416899999998], [29.59715, -95.19604], [44.480238, -74.85113], [43.65632700000001, -93.391801], [41.119846, -112.019325], [44.20775, -93.57532], [25.948165, -80.430451], [26.152924, -81.520687], [45.19476, -93.55252], [42.964407, -78.551806], [34.051859, -117.301692], [40.77117, -112.027515], [39.028402, -122.672126], [40.900398, -74.145459], [37.656336, -122.101569], [36.887723, -76.302763], [42.405009, -82.960464], [38.97137, -92.421895], [32.96485, -117.09317], [40.901798, -76.733082], [35.039777, -81.21555699999998], [36.81319000000001, -76.09805], [36.87990900000001, -76.204562], [34.041442, -118.184654], [34.030596, -117.633329], [25.889398, -80.16383499999998], [28.456012, -81.469443], [33.989197999999995, -118.243175], [33.98427, -117.84269], [36.688104, -119.745653], [36.703997, -118.125747], [27.338968, -82.514032], [36.918321, -76.268967], [25.947414, -80.148699], [25.643088, -80.414896], [41.810904, -124.125267], [34.055038, -118.254549], [34.148653, -118.050169], [45.59502, -94.37763], [35.009618, -118.952783], [34.186747, -118.401504], [40.06831500000001, -76.303042], [42.490171, -83.285368], [28.407272, -81.45524300000002], [41.99771, -73.98576], [28.589376, -81.253863], [47.787872, -116.89399], [41.29384500000001, -72.90109100000002], [38.578929, -121.506672], [25.892102, -80.351155], [34.128632, -117.260406], [38.910602, -76.849642], [40.621873, -74.14806899999998], [28.044442, -82.702403], [34.154337, -118.157283], [40.708497, -74.17414000000002], [33.507495, -82.048807], [34.024053, -117.335455], [35.172686, -80.863699], [39.95993, -75.17912], [33.93173, -117.412378], [38.870476, -121.132067], [34.895381, -82.471981], [40.09867, -75.14218199999998], [45.52501, -122.68686], [38.43245, -121.48886], [47.014117, -122.711547], [40.090349, -75.12903299999998], [35.754116, -78.621493], [25.947203, -80.15427], [33.637918, -117.85618999999998], [29.80926, -95.32111], [30.403643, -81.660786], [40.677722, -111.800297], [25.760891, -80.398105], [40.59239, -111.977065], [43.01249, -120.77281], [37.603238, -120.99353700000002], [42.417531, -73.548979], [37.552072, -77.47760500000003], [35.75277, -78.64969], [43.056695, -76.108809], [33.984346, -118.133466], [36.975463, -121.889308], [37.140258, -93.313676], [37.142726, -93.323847], [29.108568, -82.017134], [39.020355, -76.97660400000002], [33.717577, -117.96888], [45.796127, -120.015792], [40.857576, -74.362806], [34.173649, -118.518531], [41.352092, -75.346901], [37.300906, -120.49477], [30.548195, -84.702618], [37.559413, -122.04168500000002], [25.83108, -80.24199], [40.823618, -73.87879699999998], [41.680658, -92.93178], [39.74671, -105.43701], [33.85219, -117.8807], [38.91691, -78.10634399999998], [38.90463, -76.941211], [25.81167, -80.199812], [36.402013, -119.011158], [25.9253, -80.28179899999998], [40.469338, -74.292684], [34.854817, -82.248297], [37.687307, -121.91743999999998], [27.75209000000001, -82.65475], [28.06722, -82.73461999999998], [32.36319, -88.676741], [43.667297, -116.354506], [28.333021, -81.488636], [40.84679000000001, -111.91467], [37.153632, -121.686384], [34.067440000000005, -117.579993], [26.614901, -80.068527], [35.1683, -111.66764], [38.469491, -104.98883899999998], [36.264151, -86.71152099999998], [34.037069, -81.110708], [40.539518, -74.307482], [30.37701400000001, -86.33695], [30.403751, -97.853969], [40.84774, -74.42761], [41.685508, -91.560219], [36.379112, -94.171854], [38.228352, -122.615252], [34.471267, -85.304392], [28.576985, -81.46391700000002], [25.775596, -80.37209], [34.106007, -117.819486], [44.83809, -123.00842], [38.639666, -121.198243], [47.553355, -122.317712], [33.724936, -117.80258], [32.825099, -85.210615], [42.14452, -87.83010999999998], [33.77875, -117.88096000000002], [41.483677, -73.05005899999998], [38.146082, -77.505769], [33.927308000000004, -118.103558], [45.26589, -123.0219], [36.104464, -95.863918], [37.950441, -122.533631], [33.347543, -117.159168], [38.555909, -90.433858], [38.933213, -76.919866], [33.415864, -117.317851], [29.737773, -95.441538], [38.363953, -81.642922], [40.7694, -73.27976], [40.02304, -86.4443], [38.878525, -77.262762], [31.560298, -86.865216], [34.023764, -117.770879], [40.22276, -75.396047], [38.376816, -121.362286], [25.78582, -80.25215], [34.04569, -118.21552], [36.970213, -79.590035], [30.418704, -91.14171], [37.4928, -120.869399], [32.668049, -97.228879], [33.11261, -117.09718], [33.994141, -117.35934], [38.72097, -90.31966], [36.09705, -80.01157099999998], [28.61131, -81.45176], [33.664008, -117.750273], [41.028272, -73.602294], [33.314425, -117.195079], [41.111701, -73.396749], [38.641648, -121.425038], [32.77993, -117.096866], [32.662707, -97.24515], [42.2273, -71.01276], [37.69853, -121.94173], [40.686289, -73.80753], [38.594248, -121.415254], [46.394673, -108.610163], [35.118581, -89.869014], [35.266574, -119.22375], [39.726251, -86.046627], [29.865645, -95.490884], [33.783388, -117.491131], [34.395266, -79.30256999999997], [40.694016, -73.811686], [47.46459, -122.26668], [34.145275, -117.278842], [38.89752, -77.08525999999998], [35.79996, -78.69364], [45.54156, -122.47738], [35.43523, -97.60106], [36.514929, -119.28673], [34.150474, -118.687232], [34.10926, -117.52836], [41.603619, -93.496399], [47.55647, -122.081216], [36.06289, -80.231877], [27.269245, -82.460528], [36.99747, -121.956158], [34.120675, -117.907588], [28.615823, -81.476116], [35.202995, -80.756765], [36.326699, -119.211913], [34.29347, -118.47053], [27.220306, -81.874093], [40.007194, -79.08962], [25.773103, -80.393062], [33.960159999999995, -118.256213], [25.750508, -80.368004], [44.96306, -93.3438], [40.597048, -79.754952], [30.461091, -87.299461], [38.5466, -77.34431], [40.74643, -111.94905], [30.772962, -86.555205], [43.03921, -87.92484], [35.181408000000005, -80.891864], [33.36933, -117.25104], [36.076966, -87.015999], [40.63066, -111.87784], [36.796894, -119.785096], [28.637171, -80.856483], [28.055049, -81.952169], [32.713640000000005, -117.13044], [38.68248, -121.34826499999998], [36.175269, -115.160772], [39.912398, -120.807586], [38.558181, -121.385804], [34.226589000000004, -118.412347], [30.439041, -91.183066], [39.87475900000001, -75.096627], [39.264081, -76.589395], [28.54457, -81.40961999999998], [33.868799, -117.674898], [38.138855, -120.495129], [34.227714, -118.185899], [29.979293, -90.095699], [28.067419, -82.748649], [33.6516, -117.76116], [37.592782, -77.481287], [35.757344, -78.724427], [38.79149, -77.171777], [44.896104, -93.247098], [40.68706, -111.8714], [42.72067, -121.84445], [36.755062, -76.51342700000002], [33.435548, -111.897801], [25.733894, -80.28828100000001], [28.333021, -81.488504], [37.817274, -77.458526], [39.144598, -94.669393], [30.460301, -97.840788], [28.474266, -81.369688], [40.289211, -124.342971], [42.32352, -71.05479], [38.061101, -78.492189], [38.681109, -121.333243], [45.53079, -122.66533], [39.78737, -104.98952], [40.92571, -73.04781], [36.235585, -84.13268000000002], [38.965827, -94.358752], [25.769439, -80.342541], [38.105385, -77.517652], [40.533056, -78.445465], [44.0978, -123.15627], [32.77865, -96.857919], [34.110526, -117.676646], [36.595632, -80.174284], [34.278267, -118.860261], [37.69422, -121.92019], [30.392021000000003, -97.756842], [29.974578, -90.036353], [36.220488, -95.991215], [40.35082, -76.7288], [33.980835, -117.975552], [45.83228, -95.18647], [41.3127, -72.91265], [28.493762, -81.48898100000002], [32.273340000000005, -81.08027], [33.791917, -118.207558], [30.206821, -85.60450300000002], [38.4878, -90.35404], [35.863638, -78.543575], [39.15751, -94.58872], [38.431387, -82.19372800000002], [37.764957, -121.410652], [36.250065, -94.150353], [33.77338, -118.03913], [33.53464, -112.11225], [38.898714, -76.93259599999998], [34.044604, -118.009887], [40.00126, -75.22638], [41.887941, -87.91850699999998], [41.71721, -87.89675], [29.810969, -95.357563], [35.814105, -78.604714], [38.96203, -77.18672], [44.94296, -93.27486], [33.959499, -81.22735], [41.82172, -71.42016], [31.704841, -106.28091], [46.717141, -114.077023], [38.34056, -77.49154899999998], [34.150986, -118.678603], [38.71488, -75.314897], [38.878186, -77.26746700000002], [25.766794, -80.368796], [45.919622, -111.683825], [35.404946, -119.032344], [47.44532, -122.21662], [43.101141, -75.222324], [35.343608, -119.002943], [40.018891, -75.701476], [42.36001, -88.03327], [25.770953, -80.199004], [47.11382800000001, -122.434759], [39.921286, -86.11215], [30.40206, -86.929016], [33.928622999999995, -118.326549], [29.40895, -98.50891], [32.888141, -117.204004], [28.266487, -82.159152], [34.072629, -118.058685], [41.84616, -87.63818], [25.928764, -80.185692], [34.129715999999995, -117.933687], [34.17183, -118.15805], [29.033349, -82.197446], [28.985, -96.65459], [34.216689, -117.12803], [32.476097, -93.784554], [34.489447, -118.137392], [33.986596, -118.415397], [38.83667, -121.16545], [32.77923, -117.06947], [45.124315, -93.211859], [41.768985, -87.62563], [26.547751, -81.777589], [38.788372, -123.010881], [29.95377, -90.119753], [38.901332, -77.027045], [41.869722, -93.571404], [44.93158, -93.14607], [27.864056, -82.347422], [35.122754, -78.75247399999998], [34.253493, -118.472388], [35.75448499999999, -78.77379300000003], [38.827717, -77.455298], [29.745812, -95.41067], [29.941857, -90.095389], [39.21584, -77.53463], [40.923498, -74.798051], [44.57726, -93.29834], [35.412258, -119.065133], [37.026833, -121.569224], [41.93519000000001, -71.46691], [32.760125, -117.198768], [41.650704, -93.6005], [33.89202, -118.04371], [41.772347, -87.907265], [40.828918, -73.843199], [41.524666, -85.366827], [27.524009000000003, -81.49850500000002], [45.88732, -93.66356], [38.581377, -121.303449], [36.776337, -76.250846], [39.04892, -84.57217], [38.339378, -122.71278], [35.73573, -119.742374], [35.003151, -85.21210699999997], [33.590672, -117.752031], [37.433567, -77.33691999999998], [41.632886, -90.864752], [36.751834, -119.790535], [30.471428000000003, -84.62647199999998], [34.71993, -81.19462], [40.573861, -111.97729], [37.651045, -77.609664], [43.175387, -123.370898], [35.203174, -80.75624300000001], [36.982176, -121.965895], [38.6441, -121.481746], [39.504373, -120.280596], [40.32931, -76.515529], [33.925224, -118.328775], [29.830848, -95.462305], [41.803228, -78.454326], [47.61002, -122.1884], [33.910975, -118.168819], [35.903695, -94.19196], [41.0332, -81.85895], [26.414283, -80.089761], [41.074508, -73.919364], [33.862524, -117.538446], [38.70341, -122.604616], [29.67122100000001, -95.289061], [41.898442, -71.369974], [33.66864, -112.11639], [33.868156, -117.839151], [36.815732, -121.637996], [25.884482, -80.388499], [25.784492, -80.24322099999998], [35.33850200000001, -119.03946], [26.67968, -81.79848], [28.514622, -81.394915], [28.566902, -81.208647], [42.4505, -79.30796], [34.465838, -120.103386], [42.74304, -73.64752], [25.926024, -80.150675], [30.222257, -97.508217], [25.767164, -80.200184], [30.408177, -97.718843], [38.146082, -77.505769], [39.481122, -121.530559], [37.64667100000001, -77.409187], [25.764375, -80.265059], [35.045599, -85.247405], [37.089843, -121.002144], [33.98076, -117.84163], [44.85899000000001, -93.32891], [35.91055, -78.97967], [36.754835, -119.766565], [38.588334, -121.415469], [33.481146, -111.727041], [37.540036, -122.283915], [33.190233, -117.188879], [27.447334, -82.45903299999998], [36.019301, -83.489634], [32.85392, -96.64543], [32.789229, -96.80197], [40.732315, -74.221497], [45.676472, -95.388113], [34.840553, -81.971601], [33.938022, -117.126898], [41.10812, -80.23945], [27.388188, -82.460909], [42.303017, -121.817167], [25.957344, -80.20402], [25.596588, -80.37388399999998], [32.706974, -96.952456], [40.884135, -73.89886800000002], [38.769282, -121.249483], [36.04017, -78.89941], [35.189532, -80.772416], [37.332012, -122.017372], [38.690846, -120.701602], [28.480543, -81.45896], [45.726297, -111.083414], [34.120845, -117.883812], [37.34844, -122.059768], [37.902354, -122.315759], [34.01075, -118.158959], [38.674353, -121.741272], [45.56355, -122.17123], [38.516305, -76.68420400000002], [40.72558, -111.95244], [31.508342, -97.14281], [38.57168, -121.59297], [33.667141, -117.684034], [25.81245, -80.21472], [37.355641, -102.615422], [36.205398, -86.76115], [34.420039, -119.349944], [25.809272, -80.314996], [43.985736, -69.941737], [34.325989, -117.269141], [40.899548, -74.23503199999998], [41.846613, -73.579947], [29.781023, -95.45408], [37.31394, -121.82699], [28.387404, -81.42515], [40.718752, -74.135868], [25.884377, -80.165214], [40.732582, -74.11886899999998], [41.227732, -74.436864], [37.787349, -122.247952], [32.93119, -97.03921], [33.172286, -87.440069], [33.643329, -117.17132], [35.422456, -119.072483], [45.498393, -122.673209], [39.6298, -104.90516], [29.72523, -95.46022], [40.08891, -76.380533], [33.616692, -84.445382], [27.82623, -82.66632], [27.99666, -82.58187], [42.54984, -83.02875999999998], [42.43335, -88.98849399999996], [28.551194, -81.475778], [39.25408, -76.68575], [42.48892, -83.08129], [38.47486, -112.61263], [37.653369, -122.104535], [41.18375800000001, -73.14027], [45.53541, -122.66724], [45.40485200000001, -122.744418], [39.084727, -94.4892], [37.554879, -77.48549100000002], [30.333012, -97.979111], [34.881384999999995, -120.497408], [40.305568, -75.61797800000002], [33.197514, -80.57674], [37.196477, -93.317389], [37.594785, -120.915506], [29.67107, -95.276984], [39.095972, -94.556173], [34.056062, -117.546582], [42.347164, -122.875628], [34.13777, -118.01391], [43.131626, -75.295261], [34.70092, -118.17022], [39.520162, -119.870125], [40.178471, -74.099467], [43.604669, -116.601733], [25.747662, -80.337693], [34.358936, -118.554121], [30.36143400000001, -84.299912], [39.566903, -76.141351], [38.124886, -104.670385], [37.33355, -122.07274], [35.126405, -80.781103], [39.206353, -76.588622], [43.03574, -87.93379], [30.257365000000004, -81.43262800000002], [28.118659, -82.694996], [34.185799, -117.431804], [38.457042, -121.410537], [34.081509999999994, -117.200808], [44.626708, -123.971256], [33.702127000000004, -117.858273], [42.37853, -83.43658], [33.37013, -93.71719], [33.78179, -117.83122], [32.75056, -117.22973600000002], [36.51321400000001, -121.437653], [40.197654, -77.139333], [32.833467, -96.895283], [33.831578, -118.295211], [34.409254, -117.393819], [30.19825, -97.64227], [32.871093, -117.10713], [38.96498, -94.52135], [36.141299, -86.731852], [37.054436, -120.554084], [47.82818, -122.25644], [30.613112, -86.975578], [25.67081, -80.362747], [33.876909999999995, -118.15343], [27.795790000000004, -82.66164], [37.90148, -122.070132], [40.432964, -111.89275], [38.631763, -121.336719], [36.381987, -103.031132], [42.069402, -76.122049], [40.959724, -73.74063100000002], [42.988305, -83.71898399999998], [39.067659, -96.28904], [30.189277, -85.756885], [34.0319, -118.417993], [25.902142, -80.235765], [25.939197, -80.295275], [32.819152, -96.787095], [35.344714, -80.968192], [28.449924, -81.479136], [30.429082, -91.17764], [40.007045, -79.090745], [37.80106, -121.19247], [34.909898, -81.982493], [46.393265, -94.131867], [34.164457, -118.473051], [35.851982, -78.680509], [42.225003, -121.757254], [30.31423, -97.71989], [40.653279, -111.456539], [25.90939, -80.20987], [40.69347, -73.54539], [27.86482, -82.32668100000002], [32.085674, -110.948272], [44.860808, -93.395199], [36.935273, -77.394014], [33.92017, -84.320636], [29.675212, -95.552734], [40.76465, -73.95241999999998], [41.751186, -72.70288599999998], [40.013957, -79.071066], [33.386428, -117.248045], [45.07928, -93.05273], [44.16807, -93.25837], [47.185554, -122.46361], [45.070123, -93.446629], [41.68975, -83.66689000000002], [33.915756, -118.188206], [28.786838, -81.212824], [44.966718, -93.272729], [45.173726, -122.857332], [37.788613, -121.302329], [45.665761, -110.979064], [40.757721, -73.609954], [40.85511, -73.97092099999998], [33.935246, -118.092721], [47.659474, -114.626015], [41.69598, -87.784997], [32.865431, -96.776428], [33.92321, -118.20573], [33.91272, -118.28639], [42.863817, -73.763621], [30.457511, -91.176652], [44.88485, -93.0643], [39.637513, -76.072652], [34.27807, -118.50612], [37.72, -121.65893], [34.136484, -117.50218], [30.588051, -84.487105], [42.37933, -83.20623], [34.038466, -118.274699], [30.273288, -82.758196], [41.7322, -72.75301999999998], [36.605197, -119.808891], [39.727624, -86.04643399999998], [34.247462, -117.279042], [37.933435, -121.056682], [33.858708, -117.283234], [36.893279, -76.426739], [35.85002100000001, -78.580637], [35.33728, -80.90767], [29.723184000000003, -95.14765], [47.395273, -121.516881], [41.55731, -77.11887], [40.098072, -75.197576], [37.89742, -122.08187], [38.595554, -121.365909], [40.604162, -74.076939], [32.77387, -96.91614], [36.939307, -81.15350600000002], [39.045041, -94.656118], [25.963003, -80.157545], [25.747382, -80.34366800000002], [35.28246, -81.184606], [36.794144, -119.784748], [34.0722, -117.902606], [42.264636, -83.270248], [37.792968, -122.383384], [41.670316, -91.442288], [38.796554, -77.336851], [34.0386, -81.093847], [34.04143, -118.27353], [37.90731, -122.31508], [45.257782, -93.019513], [33.859547, -117.923099], [42.299539, -123.249499], [45.020426, -93.283268], [38.348733, -121.990766], [33.816293, -117.914682], [38.94347, -94.53685], [40.731552, -74.039439], [35.17208, -80.85123], [39.69518, -75.401927], [36.051234, -119.143099], [44.976972, -93.287472], [34.78989, -82.48638000000003], [33.96663, -118.22522], [39.912124, -75.192631], [33.1915, -86.78482199999998], [40.922173, -73.818415], [36.834691, -121.422092], [25.75927, -80.31012700000002], [43.633818, -116.357742], [44.45756, -95.48505], [47.88391, -122.23075], [28.188735, -81.500688], [37.480472, -122.206974], [41.013541, -83.687058], [36.069542, -86.689735], [34.874235, -118.291075], [30.418472, -91.08786], [29.580353, -98.476765], [27.39648, -82.56326], [29.743331, -95.360692], [37.475524, -120.853533], [47.4671, -92.9048], [46.689373, -94.366647], [38.377269, -121.362773], [33.69656, -84.40527], [37.65365900000001, -121.898463], [35.630067, -117.782181], [39.652939, -122.159647], [32.677718, -117.109504], [28.485493, -81.406033], [36.261304, -86.712523], [39.412603, -77.473919], [41.049174, -77.313236], [43.684033, -93.321722], [33.589202, -86.864115], [34.36128, -118.50558], [41.64562, -122.523737], [40.241073, -75.52850500000002], [39.1539, -121.630843], [33.52791, -112.04371], [29.672514000000003, -95.28718], [34.035053000000005, -118.368249], [39.721248, -105.008685], [35.652406, -78.833616], [40.930241, -75.03358399999998], [30.423878, -91.074604], [38.334877, -85.821081], [36.565729, -119.616183], [37.54773, -121.98646], [36.204967, -86.689923], [28.069331, -82.45802900000002], [37.933533, -78.109927], [46.10074, -85.92714000000002], [39.401358, -76.565694], [39.99765900000001, -75.484888], [42.972596, -85.653948], [34.241776, -119.187331], [39.729253, -75.64779300000002], [38.524866, -121.475111], [38.453897, -121.409214], [33.8501, -117.83793], [36.8076, -76.43070999999998], [32.742143, -117.112187], [33.974734000000005, -118.23252], [40.67041, -111.901255], [40.381391, -79.927716], [39.95233, -104.98792], [30.084207, -83.665602], [43.225496, -73.488725], [32.236001, -110.943962], [42.374572, -83.216696], [34.032376, -118.222395], [36.179505, -95.940314], [36.262604, -86.684381], [40.169717, -86.54901600000002], [37.20836, -93.303318], [42.791711, -85.66837199999998], [38.79166, -89.89622], [44.80859, -93.21966], [29.97457600000001, -95.421184], [33.914454, -117.286024], [38.82320900000001, -76.883139], [45.526753, -122.658115], [34.73777800000001, -92.27235], [47.571481, -122.346699], [45.34793, -118.24592], [38.56910900000001, -77.334725], [33.940812, -117.266124], [34.206383, -117.08843799999998], [34.126401, -118.475319], [26.41652, -80.09020699999998], [42.70644, -73.83075], [34.03001, -117.967729], [40.272039, -76.119178], [39.991554, -75.086232], [34.028929999999995, -118.203544], [34.028326, -118.431305], [40.483844, -74.443466], [34.070163, -118.000401], [37.711054, -120.822626], [45.077601, -93.366483], [45.558995, -122.678473], [36.1436, -79.12214], [35.024467, -82.035287], [25.596483, -80.36036999999997], [34.08398, -117.69273], [39.03855, -84.59148], [44.80859, -119.96023999999998], [33.475288, -81.692544], [37.867471, -121.641598], [30.444274, -87.239857], [34.318054, -117.48058], [28.598395, -81.252521], [37.905982, -121.874104], [40.712549, -111.93897], [33.39853, -111.89131], [38.55214, -121.41575], [37.54823, -122.29147], [38.614916, -121.403159], [36.17693, -95.9756], [44.8619, -93.30225], [40.526622, -74.27074300000002], [42.38771, -83.43563], [36.892071, -76.231454], [39.189829, -120.113429], [40.549425, -77.154996], [37.989199, -121.1912], [33.658837, -117.780314], [37.157289, -93.345251], [33.654063, -81.705215], [34.179271, -118.395205], [33.77929, -83.85276999999998], [27.950023, -82.39802900000002], [28.536040000000003, -81.059251], [33.264964, -117.076954], [29.602349, -98.44266], [39.76038, -105.00582], [25.796986, -80.335534], [32.878029999999995, -117.169447], [33.902734, -117.46374], [33.94178, -117.27361], [39.0611, -77.15590999999998], [40.67519, -111.90171], [33.939085, -118.291599], [47.77737, -122.31365], [35.138079, -80.981204], [40.80053, -74.46554], [26.386937, -80.104263], [34.07289, -80.97745], [46.755012, -92.104858], [33.503743, -117.65916], [45.251405, -118.020691], [27.126713, -80.337127], [28.850146, -81.1621], [35.75333, -78.73116], [36.61418, -119.074383], [25.769442, -80.33892900000002], [34.886873, -82.186189], [39.809472, -120.302861], [35.550849, -82.60906700000002], [34.065163, -118.000245], [27.471385, -82.575407], [46.262128, -100.232831], [29.928669, -90.010892], [34.130691, -117.945731], [30.57869, -84.672836], [34.147787, -82.14331899999998], [36.832534, -76.196097], [26.59720900000001, -81.862592], [44.091806, -123.09982], [31.7462, -106.36749], [35.008265, -85.23658499999998], [29.209867, -81.449686], [25.942301, -80.30968], [43.186184, -77.638879], [25.811446, -80.32117099999998], [25.761063, -80.41539], [33.62927, -78.96259], [37.866429, -122.305544], [40.15472000000001, -75.1217], [34.075790000000005, -118.27668], [41.04749, -96.29513], [37.69072, -122.092358], [25.873688, -80.258064], [40.739577, -74.064913], [37.573194, -118.739034], [33.975916999999995, -118.432949], [40.716749, -111.784158], [37.239753, -121.78436200000002], [25.763164, -80.301721], [42.49931, -71.47296999999998], [43.022836, -78.06654], [36.699582, -81.978381], [42.27234, -85.43435], [30.430509000000004, -90.091017], [35.075526, -120.521027], [40.968353, -78.082243], [32.664908000000004, -117.109867], [39.711483, -80.056398], [34.156890000000004, -118.37925], [40.20083, -74.758926], [32.651692, -96.764827], [37.98022, -122.06562], [33.901070000000004, -117.46963], [33.850147, -117.875916], [39.59505, -104.848], [40.76894, -73.5619], [33.999577, -117.966847], [37.316661, -121.947974], [32.778812, -117.102969], [37.572373, -77.456756], [29.96577000000001, -95.41893], [29.721999, -95.559678], [36.957489, -121.80173], [38.478543, -121.427476], [34.002914000000004, -117.887589], [33.385444, -111.931596], [34.148758, -119.112986], [45.333012, -93.004578], [42.34582, -71.05958000000003], [34.13576, -118.15556], [30.287111, -81.515357], [33.977090000000004, -81.105719], [35.415107, -119.021223], [34.11854, -117.8654], [41.30379, -75.76811], [39.581581, -79.97851899999998], [39.828411, -86.033796], [42.46559, -87.96384], [37.36031, -121.90507], [34.882525, -81.026333], [38.697332, -121.336708], [25.732173, -80.33572099999998], [37.400412, -79.898232], [34.172155, -118.552338], [33.822601, -84.492559], [40.628911, -74.183818], [32.754138, -82.260421], [27.94366, -82.54295], [36.044887, -86.66386], [34.066489000000004, -117.216964], [37.848268, -121.238927], [39.967603, -75.579014], [41.4417, -82.20249], [35.738193, -78.589704], [28.332648, -81.58556999999998], [25.785431, -80.336773], [28.541084, -81.398291], [41.98556, -87.65519], [34.276388, -118.532234], [34.355063, -118.385348], [40.31686, -74.65569], [36.15605, -86.787127], [41.4243, -88.35916999999998], [39.828734, -77.059065], [44.94833, -92.98585], [40.171808, -75.494736], [33.997181, -93.183771], [36.763779, -119.837799], [39.775968, -84.286712], [35.088583, -85.06251400000002], [28.467081, -81.30996400000002], [39.872246, -75.086878], [34.179968, -80.959029], [33.903733, -88.135725], [33.569097, -79.033118], [38.944505, -91.945341], [40.594707, -73.99754399999998], [34.070910999999995, -117.956055], [25.575353, -80.372854], [34.071961, -118.109561], [37.57371, -122.26222], [41.704519, -72.644444], [37.60259, -77.42359], [38.755913, -76.993271], [39.766627, -75.544276], [38.6401, -121.27168799999998], [48.1752, -122.19273], [45.343712, -118.107886], [39.829318, -75.431495], [41.640276, -93.777163], [34.90646, -82.09976999999998], [33.023895, -117.082053], [41.42008, -73.15106999999998], [45.33189, -122.76912], [32.201625, -110.826569], [45.03429000000001, -92.98485], [37.72094, -113.059497], [37.256411, -121.795399], [41.057957, -73.51310600000002], [39.017188, -94.785508], [45.366786, -122.596489], [30.446706, -87.218103], [34.198164, -118.158662], [30.345, -81.54656700000002], [37.167084, -121.667563], [33.822927, -118.290325], [36.603795, -120.034035], [33.914033, -117.443488], [41.888671, -87.64777099999998], [38.395923, -122.713504], [45.57471, -122.67856], [40.76653, -73.83825], [37.827012, -122.285858], [34.11628, -80.88501], [41.312381, -72.913073], [35.262326, -80.96751], [25.78784, -80.209907], [26.159985, -80.164114], [46.644934, -100.717645], [40.05379, -76.520492], [26.70793, -80.15195], [41.223589, -96.003481], [35.768714, -119.274518], [33.522277, -112.23766], [34.743421999999995, -92.305862], [33.991466, -118.282681], [39.49033, -77.971994], [44.536026, -94.897428], [35.18582, -80.746942], [38.565992, -121.336001], [34.014608, -118.178953], [38.63764000000001, -121.40707], [34.806243, -118.153742], [33.4717, -111.47712], [45.088868, -93.052632], [36.184466, -119.328667], [45.531579, -122.596772], [30.492027, -84.432281], [28.209821, -80.664242], [42.36144, -87.9379], [25.932263, -80.188426], [37.71122800000001, -122.167542], [34.049057, -84.586149], [33.669577000000004, -117.822656], [25.732294, -80.31501800000002], [35.94852, -78.42251], [38.079835, -122.546247], [47.978445, -122.177935], [43.082637, -77.520264], [35.441159000000006, -119.0334], [37.301019, -76.68123299999998], [38.150386, -85.714107], [42.24013, -87.90335999999998], [25.7845, -80.17485699999997], [38.643157, -121.38333], [44.91812, -117.8213], [34.40627, -117.396479], [30.420623, -87.281809], [44.86699, -93.63714], [29.67891, -95.40385], [32.711502, -117.099698], [37.144869, -79.968322], [29.736812, -95.41069], [40.42338, -76.53168000000002], [34.067515, -117.554566], [43.132879, -79.046883], [35.21042, -86.082027], [34.698815, -82.282517], [30.380684, -81.673661], [33.88565, -117.880658], [39.20923, -76.8247], [44.314116, -93.293033], [42.69418, -84.66901999999997], [32.913272, -96.872637], [40.337945, -74.63195400000002], [30.183554, -97.849707], [25.953452, -80.205487], [34.081894, -117.704564], [28.495988, -81.330915], [36.77951, -119.749008], [45.16467, -122.5993], [35.068331, -82.173849], [40.6894, -73.62921], [33.061627, -117.291058], [28.55214, -81.482665], [39.21626, -76.64455], [35.15867, -80.89138], [46.317623, -114.154908], [37.298795, -121.87455], [35.870779, -86.461249], [33.142386, -117.188601], [28.564772, -81.20727600000002], [30.08721, -90.43658], [45.882849, -108.31328899999998], [34.71829, -82.56900999999998], [45.524135, -122.56516], [38.504202, -122.734206], [32.629112, -88.206519], [45.89013, -119.29836], [41.788302, -107.37641], [36.829103, -76.311273], [25.823117, -80.206385], [34.098242, -118.599527], [34.073822, -117.749125], [29.730453000000004, -95.418935], [35.840001, -78.677142], [40.902067, -74.13287700000002], [34.020221, -118.18824], [33.871878, -117.701052], [40.63582, -111.90506], [38.75367, -75.62772], [38.151027, -122.449285], [33.519039, -117.160446], [44.964905, -93.201731], [47.377419, -122.651382], [37.22554, -93.26142], [39.41115, -76.73009], [35.8232, -78.60871], [38.685842, -121.382678], [40.371544, -74.086546], [33.812774, -81.455951], [25.881633, -80.24296700000002], [37.858448, -81.195926], [25.890213, -80.187688], [38.99196, -94.50231], [33.949225, -118.166443], [39.24753, -76.67663], [44.983037, -93.400386], [30.322995, -97.694284], [35.29190999999999, -80.79678], [43.06786, -87.92055], [40.66722, -73.7699], [43.663133, -116.613317], [34.066313, -118.278972], [29.80408, -95.44794], [39.03452100000001, -77.48138900000002], [40.163383, -75.11111700000002], [37.132555, -80.362061], [43.746024, -92.661255], [42.340633, -124.413637], [34.262994, -118.440806], [36.13338, -95.97559], [35.732172, -80.09909300000002], [41.55337, -72.10576], [33.571454, -112.1173], [41.44647, -79.692796], [29.634537, -98.222408], [41.686323, -93.575974], [36.909205, -120.005985], [44.95181, -93.08578], [25.593162, -80.356645], [37.207849, -93.328244], [27.139632, -82.459056], [29.42431, -95.05414], [39.40018, -76.6674], [33.928845, -118.287], [33.71215, -84.220682], [32.841621, -117.123838], [38.788471, -77.301967], [41.86881500000001, -123.85414], [41.52927, -87.31399], [39.834119, -75.424157], [34.153994, -118.344007], [37.634435, -121.394619], [29.8923, -82.085548], [42.98507, -87.91535], [43.03559, -87.92813000000002], [39.57842, -76.19861999999998], [40.668118, -111.90154], [40.39955, -79.559431], [30.449708, -86.6453], [39.265083, -76.56225], [37.240917, -119.707551], [25.656505, -80.39655], [45.60198, -121.14312], [34.974559, -82.02032700000002], [41.632225, -122.434609], [33.662109, -112.231588], [33.95669, -117.30653], [44.742334, -122.678803], [32.250076, -86.992439], [39.115824, -121.081086], [40.61208, -111.90628], [35.912343, -78.781896], [32.791466, -117.112817], [28.452939, -81.400159], [34.877657, -82.293356], [37.141604, -120.274431], [34.0886, -118.47545], [34.159245, -118.460143], [40.64845, -111.90222], [37.672882, -77.536668], [44.961171, -92.772168], [34.215019, -118.227886], [44.40479000000001, -122.0742], [32.474243, -93.79028], [38.656253, -121.272446], [39.21922, -121.601251], [40.74328, -73.7755], [42.905126, -121.829586], [41.964243, -92.297998], [41.92725, -91.670061], [38.372268, -121.417538], [34.136506, -117.563656], [41.1672, -73.23025], [33.976242, -118.084433], [39.404042, -77.39272700000002], [42.55344, -82.86615], [39.825411, -121.927237], [33.918749, -118.035441], [28.3208, -81.3913], [34.07458, -117.75024], [45.037772, -93.060324], [37.734629, -122.406319], [25.928795, -80.211691], [32.968777, -80.07537099999998], [38.237892, -78.112239], [38.327197, -77.50089200000002], [33.86691, -117.71139], [37.310371, -121.93181], [33.85611, -118.00633], [37.76346, -121.41918], [28.566698, -81.205547], [47.43716, -122.21851], [26.545722, -81.78618], [35.77368900000001, -78.845954], [34.437185, -119.789361], [35.14490900000001, -113.683143], [40.111973, -75.123211], [38.083657, -78.98756999999998], [35.79845, -78.562934], [37.332118, -120.568012], [42.37753, -87.855503], [33.931909999999995, -118.1013], [44.89065, -122.99451], [34.988364000000004, -118.943823], [30.518575, -87.46289499999996], [28.365762, -81.388858], [34.15347, -118.32685], [39.958616, -74.917734], [30.1645, -81.74746], [32.165816, -81.03982099999998], [33.557973, -81.92661899999997], [28.546067, -81.618783], [29.964914, -90.108897], [28.54614, -81.55787], [39.72279, -105.01065], [39.0685, -104.85691], [40.847867, -73.935826], [37.331117, -119.655526], [25.684325, -80.41642900000002], [34.231821000000004, -93.010715], [29.51739, -98.52592], [42.34735, -71.23234000000002], [38.737012, -77.44389], [30.52975, -91.184573], [33.74208, -84.4047], [40.001719, -75.23989499999998], [38.445863, -121.858841], [33.954726, -117.305097], [44.95444000000001, -93.09254], [44.969401, -93.303545], [33.51955, -117.61994], [40.785227, -73.533557], [34.036015, -118.186992], [30.080183, -81.86206700000002], [40.75089000000001, -73.94062], [35.058890000000005, -80.76980999999998], [34.115852000000004, -118.592116], [44.613217, -93.768701], [34.276453000000004, -118.452733], [43.173254, -83.768552], [29.960898, -90.123159], [36.06605, -80.25811999999998], [33.797496, -118.086172], [35.127146, -85.242073], [45.37506, -122.7557], [33.708268, -84.40294], [25.525653, -80.3981], [45.30895200000001, -93.586732], [43.07210300000001, -76.207368], [41.99352, -88.26803000000002], [37.59741, -77.6177], [29.772359, -95.326319], [34.030435, -117.611013], [30.391976, -91.111179], [31.60139, -96.15557], [37.212145, -93.339079], [33.849324, -117.534531], [33.029103000000006, -112.04473], [42.07689, -122.60206], [32.92736, -96.9012], [42.003082, -93.571211], [42.95162, -78.75912], [38.818141, -76.941515], [25.72684, -80.26138], [33.980705, -117.340366], [34.25812, -118.193001], [41.617957, -87.687058], [37.681087, -122.124294], [33.878585, -118.192495], [39.189101, -78.13479699999998], [47.487062, -92.445005], [25.942296, -80.30827], [47.69067800000001, -92.410652], [31.009061, -83.54945699999998], [34.063625, -117.54511399999998], [33.77838, -117.8705], [27.940775, -82.35334300000002], [42.96988, -71.47615], [39.78203, -75.72185], [48.095314, -114.153622], [44.2106, -121.22117], [38.66417, -76.87458000000002], [36.225781, -119.260379], [36.131926, -118.863435], [32.295285, -95.278927], [32.797697, -96.68459], [34.0819, -117.716], [33.931490999999994, -118.019603], [25.807449, -80.29079399999998], [39.04678, -94.56178], [32.671615, -96.85716], [37.333141, -79.243317], [35.159393, -113.696919], [39.004082, -76.895995], [25.78084, -80.19989], [40.976988, -73.755238], [33.687422999999995, -117.87191], [41.519985, -73.99700899999998], [28.362552, -81.560529], [36.06129, -80.22333], [47.75333, -122.18625], [34.947849, -82.224682], [42.756027, -73.732602], [41.899095, -87.660113], [32.29443, -90.24944], [44.0978, -123.15611], [32.250413, -110.991383], [33.620645, -81.10494399999997], [33.668969, -112.058766], [39.608875, -77.778745], [37.894302, -122.120171], [40.063072, -76.281327], [42.187313, -88.101686], [35.827622, -78.70342099999998], [28.568286, -81.26804], [34.557962, -117.938572], [38.481577, -121.371793], [39.094258, -76.626924], [38.11626, -121.178201], [30.412286, -87.273924], [33.81353, -118.16797], [37.68377, -122.12968899999998], [35.336223, -118.914261], [35.197668, -80.790503], [33.892641999999995, -118.285868], [39.99318, -85.83743], [35.278931, -80.793545], [27.63858, -80.43021], [34.12811, -80.944702], [42.285454, -122.993858], [40.334769, -75.93956999999997], [33.960149, -118.244414], [40.004351, -75.19564100000002], [33.94747, -118.36829], [35.647206, -78.564964], [40.248042, -75.637579], [36.9328, -121.74363999999998], [26.268232, -80.168685], [38.91626, -94.76766], [40.831192, -74.024473], [25.702455, -80.332105], [37.65289, -77.611345], [40.472199, -80.221912], [45.709779, -122.635622], [33.05247, -117.28858], [40.251723, -75.246792], [34.201492, -119.099804], [33.63309, -117.72547], [35.126992, -118.411256], [41.570952, -87.437679], [26.556726, -81.863934], [34.043956, -118.161932], [48.008994, -122.762627], [35.99284, -86.59262], [33.047808, -117.07279], [38.018836, -121.948032], [34.69585900000001, -82.788996], [34.066489000000004, -117.234474], [39.78002, -104.9593], [29.773921, -95.461125], [40.606874, -74.04374200000002], [33.38235, -111.96799], [41.25247, -81.49936], [39.400571, -76.426689], [47.46242, -115.707697], [37.255463, -121.849853], [34.062386, -118.000549], [38.510916, -122.751244], [43.035821, -87.94339599999998], [45.566836, -122.6785], [26.333428, -81.806251], [36.92304, -119.89431], [33.460766, -79.12530500000003], [30.442796, -91.131475], [45.577389, -122.761609], [40.86722, -74.447211], [35.162109, -80.95161999999998], [42.27698, -84.36063], [34.179752, -117.148271], [39.822746, -84.189337], [39.74715, -105.01813], [45.49363, -122.56538], [30.327919, -81.529315], [27.936246, -82.310249], [31.296576, -82.84237399999998], [41.96436, -87.74767], [41.85867, -88.11146], [28.473268, -81.396746], [25.925341, -80.153943], [30.47888, -90.49397], [29.74156, -95.438137], [34.06211, -118.21571000000002], [27.573475, -81.703087], [45.593888, -122.683652], [34.785021, -92.128375], [44.93338, -93.12774], [33.773504, -117.81092], [37.102952, -119.504184], [34.487832, -81.017507], [35.563555, -120.703541], [39.270962, -76.722089], [38.494201, -122.656844], [33.986374, -117.364195], [40.75327, -74.21083], [27.300588, -82.530535], [45.470044, -122.683149], [34.067501, -117.549923], [36.313612, -119.690996], [39.692297, -86.230623], [30.168918, -81.596242], [28.40537, -81.50310999999998], [37.457287, -77.42531], [34.054768, -81.11001], [25.939889, -80.293964], [38.91191, -76.849847], [38.91748, -76.97051], [25.910588, -80.21159899999998], [37.40968, -121.99566000000002], [37.12705, -113.52755], [34.157166, -118.379384], [38.754872, -77.304264], [35.50122, -80.56265], [33.972641, -118.079466], [44.707854, -121.05821], [25.831579, -80.23097800000002], [32.660275, -96.87254], [34.058084, -118.237071], [38.32242, -122.02573], [28.451321000000004, -81.45925799999998], [40.04293, -82.99701999999998], [39.75259000000001, -121.84202], [28.0546, -82.43890999999998], [39.260362, -78.09891999999998], [38.65655200000001, -77.28003299999997], [28.53841, -81.413403], [30.107331, -82.451233], [47.22695, -92.48758], [35.28282, -80.8573], [42.98944, -85.67721999999998], [37.31793, -121.97919], [36.118475, -86.631069], [33.935216, -118.368506], [43.917878, -123.012188], [34.804869000000004, -120.445014], [28.34733300000001, -81.508995], [41.75113, -71.44088], [38.938474, -94.748366], [35.274168, -80.836139], [25.732173, -80.33572099999998], [34.641083, -117.220548], [26.520641, -81.89856400000002], [44.884763, -122.998199], [45.315238, -122.914419], [40.12528, -76.21425], [42.060996, -87.86789], [28.357378000000004, -81.494599], [34.031976, -118.244025], [33.69325300000001, -117.928959], [32.848961, -96.81343], [30.196169, -97.765713], [34.224488, -118.473282], [33.917159000000005, -118.02921299999998]],\n",
              "                {&quot;blur&quot;: 15, &quot;maxZoom&quot;: 18, &quot;minOpacity&quot;: 0.5, &quot;radius&quot;: 25}\n",
              "            ).addTo(map_9541fb50598781490198aaa0683f9014);\n",
              "        \n",
              "&lt;/script&gt;\n",
              "&lt;/html&gt;\" style=\"position:absolute;width:100%;height:100%;left:0;top:0;border:none !important;\" allowfullscreen webkitallowfullscreen mozallowfullscreen></iframe></div></div>"
            ]
          },
          "metadata": {},
          "execution_count": 91
        }
      ]
    },
    {
      "cell_type": "markdown",
      "source": [
        "Red regions have the most accidents i.e near the coasts"
      ],
      "metadata": {
        "id": "R9H3SweHSRjA"
      }
    },
    {
      "cell_type": "code",
      "source": [],
      "metadata": {
        "id": "-OQR-XgQHdkX"
      },
      "execution_count": null,
      "outputs": []
    },
    {
      "cell_type": "code",
      "source": [],
      "metadata": {
        "id": "x5g50aByHdm9"
      },
      "execution_count": null,
      "outputs": []
    },
    {
      "cell_type": "code",
      "source": [],
      "metadata": {
        "id": "3cSf6lTczZ0r"
      },
      "execution_count": null,
      "outputs": []
    },
    {
      "cell_type": "markdown",
      "source": [
        "Conclusive Statements\n",
        "1. Less than 4% of total cities have more than 1000 accidents per year\n",
        "2. Over 1000 cities reported just 1 accident\n",
        "3. Number of accidents per city increases/decreases exponentially\n",
        "4. 6am to 10am and 11am to 4pm time slots had most accidents.\n",
        "5. Weekends had the least count of accidents.\n"
      ],
      "metadata": {
        "id": "SwXT990Qy_Uo"
      }
    },
    {
      "cell_type": "code",
      "source": [
        "!pip install jovian -q --upgrade"
      ],
      "metadata": {
        "colab": {
          "base_uri": "https://localhost:8080/"
        },
        "id": "YBsImXQFuWxK",
        "outputId": "e00cd16c-7192-4058-c4c0-0fee7090a6eb"
      },
      "execution_count": 93,
      "outputs": [
        {
          "output_type": "stream",
          "name": "stdout",
          "text": [
            "\u001b[?25l     \u001b[90m━━━━━━━━━━━━━━━━━━━━━━━━━━━━━━━━━━━━━━━━\u001b[0m \u001b[32m0.0/68.6 KB\u001b[0m \u001b[31m?\u001b[0m eta \u001b[36m-:--:--\u001b[0m\r\u001b[2K     \u001b[90m━━━━━━━━━━━━━━━━━━━━━━━━━━━━━━━━━━━━━━━━\u001b[0m \u001b[32m68.6/68.6 KB\u001b[0m \u001b[31m9.7 MB/s\u001b[0m eta \u001b[36m0:00:00\u001b[0m\n",
            "\u001b[?25h  Preparing metadata (setup.py) ... \u001b[?25l\u001b[?25hdone\n",
            "  Building wheel for uuid (setup.py) ... \u001b[?25l\u001b[?25hdone\n"
          ]
        }
      ]
    },
    {
      "cell_type": "code",
      "source": [],
      "metadata": {
        "id": "fjrupISvuX2B"
      },
      "execution_count": null,
      "outputs": []
    },
    {
      "cell_type": "code",
      "source": [],
      "metadata": {
        "id": "Tk6WV6ArXCA2"
      },
      "execution_count": null,
      "outputs": []
    }
  ],
  "metadata": {
    "kernelspec": {
      "display_name": "Python 3 (ipykernel)",
      "language": "python",
      "name": "python3"
    },
    "language_info": {
      "codemirror_mode": {
        "name": "ipython",
        "version": 3
      },
      "file_extension": ".py",
      "mimetype": "text/x-python",
      "name": "python",
      "nbconvert_exporter": "python",
      "pygments_lexer": "ipython3",
      "version": "3.9.7"
    },
    "colab": {
      "provenance": [],
      "include_colab_link": true
    },
    "accelerator": "GPU",
    "gpuClass": "standard"
  },
  "nbformat": 4,
  "nbformat_minor": 0
}